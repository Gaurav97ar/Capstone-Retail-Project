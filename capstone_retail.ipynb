{
 "cells": [
  {
   "cell_type": "code",
   "execution_count": 1,
   "id": "2fca7d62",
   "metadata": {},
   "outputs": [],
   "source": [
    "import pandas as pd\n",
    "import numpy as np\n",
    "import matplotlib.pyplot as plt\n",
    "%matplotlib inline\n",
    "import seaborn as sns\n",
    "import warnings\n",
    "warnings.filterwarnings('ignore')"
   ]
  },
  {
   "cell_type": "code",
   "execution_count": 2,
   "id": "e4cfeda2",
   "metadata": {},
   "outputs": [],
   "source": [
    "train_data=pd.read_excel('train_3_capstone.xlsx')\n",
    "test_data=pd.read_excel('test_3_capstone.xlsx')"
   ]
  },
  {
   "cell_type": "markdown",
   "id": "e0169f02",
   "metadata": {},
   "source": [
    "## Data Cleaning:"
   ]
  },
  {
   "cell_type": "code",
   "execution_count": 3,
   "id": "ffdc3a54",
   "metadata": {},
   "outputs": [
    {
     "data": {
      "text/html": [
       "<div>\n",
       "<style scoped>\n",
       "    .dataframe tbody tr th:only-of-type {\n",
       "        vertical-align: middle;\n",
       "    }\n",
       "\n",
       "    .dataframe tbody tr th {\n",
       "        vertical-align: top;\n",
       "    }\n",
       "\n",
       "    .dataframe thead th {\n",
       "        text-align: right;\n",
       "    }\n",
       "</style>\n",
       "<table border=\"1\" class=\"dataframe\">\n",
       "  <thead>\n",
       "    <tr style=\"text-align: right;\">\n",
       "      <th></th>\n",
       "      <th>InvoiceNo</th>\n",
       "      <th>StockCode</th>\n",
       "      <th>Description</th>\n",
       "      <th>Quantity</th>\n",
       "      <th>InvoiceDate</th>\n",
       "      <th>UnitPrice</th>\n",
       "      <th>CustomerID</th>\n",
       "      <th>Country</th>\n",
       "    </tr>\n",
       "  </thead>\n",
       "  <tbody>\n",
       "    <tr>\n",
       "      <th>0</th>\n",
       "      <td>558904</td>\n",
       "      <td>22292</td>\n",
       "      <td>HANGING CHICK  YELLOW DECORATION</td>\n",
       "      <td>1</td>\n",
       "      <td>2011-07-04 16:18:00</td>\n",
       "      <td>1.25</td>\n",
       "      <td>NaN</td>\n",
       "      <td>United Kingdom</td>\n",
       "    </tr>\n",
       "    <tr>\n",
       "      <th>1</th>\n",
       "      <td>556072</td>\n",
       "      <td>20970</td>\n",
       "      <td>PINK FLORAL FELTCRAFT SHOULDER BAG</td>\n",
       "      <td>8</td>\n",
       "      <td>2011-06-08 14:57:00</td>\n",
       "      <td>3.75</td>\n",
       "      <td>16126.0</td>\n",
       "      <td>United Kingdom</td>\n",
       "    </tr>\n",
       "    <tr>\n",
       "      <th>2</th>\n",
       "      <td>551739</td>\n",
       "      <td>21559</td>\n",
       "      <td>STRAWBERRY LUNCH BOX WITH CUTLERY</td>\n",
       "      <td>2</td>\n",
       "      <td>2011-05-04 10:58:00</td>\n",
       "      <td>2.55</td>\n",
       "      <td>18118.0</td>\n",
       "      <td>United Kingdom</td>\n",
       "    </tr>\n",
       "    <tr>\n",
       "      <th>3</th>\n",
       "      <td>541658</td>\n",
       "      <td>21988</td>\n",
       "      <td>PACK OF 6 SKULL PAPER PLATES</td>\n",
       "      <td>1</td>\n",
       "      <td>2011-01-20 12:16:00</td>\n",
       "      <td>0.85</td>\n",
       "      <td>15529.0</td>\n",
       "      <td>United Kingdom</td>\n",
       "    </tr>\n",
       "    <tr>\n",
       "      <th>4</th>\n",
       "      <td>538364</td>\n",
       "      <td>85099C</td>\n",
       "      <td>JUMBO  BAG BAROQUE BLACK WHITE</td>\n",
       "      <td>10</td>\n",
       "      <td>2010-12-10 17:26:00</td>\n",
       "      <td>1.95</td>\n",
       "      <td>14448.0</td>\n",
       "      <td>United Kingdom</td>\n",
       "    </tr>\n",
       "  </tbody>\n",
       "</table>\n",
       "</div>"
      ],
      "text/plain": [
       "  InvoiceNo StockCode                         Description  Quantity  \\\n",
       "0    558904     22292    HANGING CHICK  YELLOW DECORATION         1   \n",
       "1    556072     20970  PINK FLORAL FELTCRAFT SHOULDER BAG         8   \n",
       "2    551739     21559   STRAWBERRY LUNCH BOX WITH CUTLERY         2   \n",
       "3    541658     21988        PACK OF 6 SKULL PAPER PLATES         1   \n",
       "4    538364    85099C      JUMBO  BAG BAROQUE BLACK WHITE        10   \n",
       "\n",
       "          InvoiceDate  UnitPrice  CustomerID         Country  \n",
       "0 2011-07-04 16:18:00       1.25         NaN  United Kingdom  \n",
       "1 2011-06-08 14:57:00       3.75     16126.0  United Kingdom  \n",
       "2 2011-05-04 10:58:00       2.55     18118.0  United Kingdom  \n",
       "3 2011-01-20 12:16:00       0.85     15529.0  United Kingdom  \n",
       "4 2010-12-10 17:26:00       1.95     14448.0  United Kingdom  "
      ]
     },
     "execution_count": 3,
     "metadata": {},
     "output_type": "execute_result"
    }
   ],
   "source": [
    "train_data.head()"
   ]
  },
  {
   "cell_type": "code",
   "execution_count": 4,
   "id": "d76e6862",
   "metadata": {},
   "outputs": [
    {
     "data": {
      "text/plain": [
       "(379336, 8)"
      ]
     },
     "execution_count": 4,
     "metadata": {},
     "output_type": "execute_result"
    }
   ],
   "source": [
    "train_data.shape"
   ]
  },
  {
   "cell_type": "code",
   "execution_count": 5,
   "id": "423c03ca",
   "metadata": {},
   "outputs": [],
   "source": [
    "#1a. Check for missing data and formulate an apt strategy to treat them."
   ]
  },
  {
   "cell_type": "code",
   "execution_count": 6,
   "id": "e1ed05a3",
   "metadata": {},
   "outputs": [
    {
     "data": {
      "text/plain": [
       "InvoiceNo          0\n",
       "StockCode          0\n",
       "Description      963\n",
       "Quantity           0\n",
       "InvoiceDate        0\n",
       "UnitPrice          0\n",
       "CustomerID     94260\n",
       "Country            0\n",
       "dtype: int64"
      ]
     },
     "execution_count": 6,
     "metadata": {},
     "output_type": "execute_result"
    }
   ],
   "source": [
    "train_data.isna().sum()"
   ]
  },
  {
   "cell_type": "code",
   "execution_count": 7,
   "id": "f3ec9a78",
   "metadata": {},
   "outputs": [
    {
     "data": {
      "text/plain": [
       "Description     0.253865\n",
       "CustomerID     24.848683\n",
       "dtype: float64"
      ]
     },
     "execution_count": 7,
     "metadata": {},
     "output_type": "execute_result"
    }
   ],
   "source": [
    "(train_data.isna().sum()[train_data.isna().sum()>0]/379336)*100"
   ]
  },
  {
   "cell_type": "code",
   "execution_count": 8,
   "id": "cdfa8489",
   "metadata": {},
   "outputs": [
    {
     "data": {
      "text/plain": [
       "InvoiceNo              object\n",
       "StockCode              object\n",
       "Description            object\n",
       "Quantity                int64\n",
       "InvoiceDate    datetime64[ns]\n",
       "UnitPrice             float64\n",
       "CustomerID            float64\n",
       "Country                object\n",
       "dtype: object"
      ]
     },
     "execution_count": 8,
     "metadata": {},
     "output_type": "execute_result"
    }
   ],
   "source": [
    "train_data.dtypes"
   ]
  },
  {
   "cell_type": "code",
   "execution_count": 9,
   "id": "da83d7de",
   "metadata": {},
   "outputs": [
    {
     "data": {
      "text/plain": [
       "Int64Index([  2878,   5729,   7615,   8997,  14797,  15428,  15915,  17571,\n",
       "             18464,  18666,\n",
       "            ...\n",
       "            378493, 378504, 378552, 378663, 378806, 378899, 379020, 379073,\n",
       "            379205, 379226],\n",
       "           dtype='int64', length=2673)"
      ]
     },
     "execution_count": 9,
     "metadata": {},
     "output_type": "execute_result"
    }
   ],
   "source": [
    "train_data.duplicated()[train_data.duplicated()>0].index"
   ]
  },
  {
   "cell_type": "code",
   "execution_count": 10,
   "id": "a3bf37c4",
   "metadata": {},
   "outputs": [],
   "source": [
    "#1b. Remove duplicate data records.\n",
    "train_data.drop_duplicates(inplace=True)"
   ]
  },
  {
   "cell_type": "code",
   "execution_count": 11,
   "id": "42c1ad5d",
   "metadata": {},
   "outputs": [
    {
     "data": {
      "text/plain": [
       "(376663, 8)"
      ]
     },
     "execution_count": 11,
     "metadata": {},
     "output_type": "execute_result"
    }
   ],
   "source": [
    "train_data.shape"
   ]
  },
  {
   "cell_type": "code",
   "execution_count": 12,
   "id": "a5665608",
   "metadata": {},
   "outputs": [
    {
     "data": {
      "text/plain": [
       "InvoiceNo          0\n",
       "StockCode          0\n",
       "Description      963\n",
       "Quantity           0\n",
       "InvoiceDate        0\n",
       "UnitPrice          0\n",
       "CustomerID     94243\n",
       "Country            0\n",
       "dtype: int64"
      ]
     },
     "execution_count": 12,
     "metadata": {},
     "output_type": "execute_result"
    }
   ],
   "source": [
    "train_data.isna().sum()"
   ]
  },
  {
   "cell_type": "code",
   "execution_count": 13,
   "id": "559d73b0",
   "metadata": {},
   "outputs": [
    {
     "data": {
      "text/plain": [
       "23857"
      ]
     },
     "execution_count": 13,
     "metadata": {},
     "output_type": "execute_result"
    }
   ],
   "source": [
    "train_data['InvoiceNo'].nunique()"
   ]
  },
  {
   "cell_type": "code",
   "execution_count": 14,
   "id": "c5d77c0f",
   "metadata": {},
   "outputs": [],
   "source": [
    "# didnot find any relation between invoice number and customerid as invoice number is 6 digit number and customerid is 5 digit number"
   ]
  },
  {
   "cell_type": "code",
   "execution_count": 15,
   "id": "74f2a789",
   "metadata": {},
   "outputs": [],
   "source": [
    "train_data['Description'].fillna('no_data',inplace=True)"
   ]
  },
  {
   "cell_type": "code",
   "execution_count": 16,
   "id": "bcfefccd",
   "metadata": {},
   "outputs": [
    {
     "data": {
      "text/plain": [
       "CustomerID    94243\n",
       "dtype: int64"
      ]
     },
     "execution_count": 16,
     "metadata": {},
     "output_type": "execute_result"
    }
   ],
   "source": [
    "train_data.isna().sum()[train_data.isna().sum()>0]"
   ]
  },
  {
   "cell_type": "code",
   "execution_count": 17,
   "id": "c0cca010",
   "metadata": {},
   "outputs": [],
   "source": [
    "train_data.dropna(inplace=True)"
   ]
  },
  {
   "cell_type": "code",
   "execution_count": 18,
   "id": "1c453aea",
   "metadata": {},
   "outputs": [
    {
     "data": {
      "text/plain": [
       "Series([], dtype: int64)"
      ]
     },
     "execution_count": 18,
     "metadata": {},
     "output_type": "execute_result"
    }
   ],
   "source": [
    "train_data.isna().sum()[train_data.isna().sum()>0]"
   ]
  },
  {
   "cell_type": "code",
   "execution_count": 19,
   "id": "068d0dc3",
   "metadata": {},
   "outputs": [
    {
     "data": {
      "text/plain": [
       "(282420, 8)"
      ]
     },
     "execution_count": 19,
     "metadata": {},
     "output_type": "execute_result"
    }
   ],
   "source": [
    "train_data.shape"
   ]
  },
  {
   "cell_type": "code",
   "execution_count": 20,
   "id": "79a54679",
   "metadata": {},
   "outputs": [
    {
     "data": {
      "text/plain": [
       "4353"
      ]
     },
     "execution_count": 20,
     "metadata": {},
     "output_type": "execute_result"
    }
   ],
   "source": [
    "train_data['CustomerID'].nunique()"
   ]
  },
  {
   "cell_type": "code",
   "execution_count": 21,
   "id": "f09a8e82",
   "metadata": {},
   "outputs": [
    {
     "data": {
      "text/html": [
       "<div>\n",
       "<style scoped>\n",
       "    .dataframe tbody tr th:only-of-type {\n",
       "        vertical-align: middle;\n",
       "    }\n",
       "\n",
       "    .dataframe tbody tr th {\n",
       "        vertical-align: top;\n",
       "    }\n",
       "\n",
       "    .dataframe thead th {\n",
       "        text-align: right;\n",
       "    }\n",
       "</style>\n",
       "<table border=\"1\" class=\"dataframe\">\n",
       "  <thead>\n",
       "    <tr style=\"text-align: right;\">\n",
       "      <th></th>\n",
       "      <th>Quantity</th>\n",
       "      <th>UnitPrice</th>\n",
       "      <th>CustomerID</th>\n",
       "    </tr>\n",
       "  </thead>\n",
       "  <tbody>\n",
       "    <tr>\n",
       "      <th>count</th>\n",
       "      <td>282420.000000</td>\n",
       "      <td>282420.000000</td>\n",
       "      <td>282420.000000</td>\n",
       "    </tr>\n",
       "    <tr>\n",
       "      <th>mean</th>\n",
       "      <td>12.110283</td>\n",
       "      <td>3.526323</td>\n",
       "      <td>15283.894880</td>\n",
       "    </tr>\n",
       "    <tr>\n",
       "      <th>std</th>\n",
       "      <td>297.109127</td>\n",
       "      <td>80.691250</td>\n",
       "      <td>1712.665383</td>\n",
       "    </tr>\n",
       "    <tr>\n",
       "      <th>min</th>\n",
       "      <td>-80995.000000</td>\n",
       "      <td>0.000000</td>\n",
       "      <td>12346.000000</td>\n",
       "    </tr>\n",
       "    <tr>\n",
       "      <th>25%</th>\n",
       "      <td>2.000000</td>\n",
       "      <td>1.250000</td>\n",
       "      <td>13952.000000</td>\n",
       "    </tr>\n",
       "    <tr>\n",
       "      <th>50%</th>\n",
       "      <td>5.000000</td>\n",
       "      <td>1.950000</td>\n",
       "      <td>15150.000000</td>\n",
       "    </tr>\n",
       "    <tr>\n",
       "      <th>75%</th>\n",
       "      <td>12.000000</td>\n",
       "      <td>3.750000</td>\n",
       "      <td>16788.000000</td>\n",
       "    </tr>\n",
       "    <tr>\n",
       "      <th>max</th>\n",
       "      <td>80995.000000</td>\n",
       "      <td>38970.000000</td>\n",
       "      <td>18287.000000</td>\n",
       "    </tr>\n",
       "  </tbody>\n",
       "</table>\n",
       "</div>"
      ],
      "text/plain": [
       "            Quantity      UnitPrice     CustomerID\n",
       "count  282420.000000  282420.000000  282420.000000\n",
       "mean       12.110283       3.526323   15283.894880\n",
       "std       297.109127      80.691250    1712.665383\n",
       "min    -80995.000000       0.000000   12346.000000\n",
       "25%         2.000000       1.250000   13952.000000\n",
       "50%         5.000000       1.950000   15150.000000\n",
       "75%        12.000000       3.750000   16788.000000\n",
       "max     80995.000000   38970.000000   18287.000000"
      ]
     },
     "execution_count": 21,
     "metadata": {},
     "output_type": "execute_result"
    }
   ],
   "source": [
    "#1c.Perform descriptive analytics on the given data.\n",
    "train_data.describe()"
   ]
  },
  {
   "cell_type": "code",
   "execution_count": 22,
   "id": "6f7d9f6a",
   "metadata": {},
   "outputs": [],
   "source": [
    "# We have to drop invoice number which is starts with c, as this code starts with letter 'c', it indicates a cancellation"
   ]
  },
  {
   "cell_type": "code",
   "execution_count": 23,
   "id": "2e70fbd4",
   "metadata": {},
   "outputs": [],
   "source": [
    "train_data=train_data.loc[~train_data['InvoiceNo'].str.startswith('C',na=False)]"
   ]
  },
  {
   "cell_type": "code",
   "execution_count": 24,
   "id": "a9f25ed5",
   "metadata": {},
   "outputs": [
    {
     "data": {
      "text/plain": [
       "(276221, 8)"
      ]
     },
     "execution_count": 24,
     "metadata": {},
     "output_type": "execute_result"
    }
   ],
   "source": [
    "train_data.shape"
   ]
  },
  {
   "cell_type": "code",
   "execution_count": 25,
   "id": "d2018dd9",
   "metadata": {},
   "outputs": [],
   "source": [
    "#Checking the maximum quantity of products sold from each country"
   ]
  },
  {
   "cell_type": "code",
   "execution_count": 26,
   "id": "f628095d",
   "metadata": {},
   "outputs": [
    {
     "data": {
      "text/plain": [
       "Country\n",
       "United Kingdom          3029694\n",
       "Netherlands              137226\n",
       "EIRE                      95771\n",
       "Germany                   83284\n",
       "France                    77004\n",
       "Australia                 57153\n",
       "Sweden                    26915\n",
       "Switzerland               21105\n",
       "Spain                     19287\n",
       "Japan                     18897\n",
       "Belgium                   16558\n",
       "Norway                    13350\n",
       "Portugal                  11313\n",
       "Finland                    7195\n",
       "Channel Islands            6517\n",
       "Italy                      5832\n",
       "Denmark                    5118\n",
       "Cyprus                     3918\n",
       "Austria                    3626\n",
       "Singapore                  3284\n",
       "Israel                     2653\n",
       "Poland                     2618\n",
       "Canada                     2191\n",
       "Iceland                    1814\n",
       "USA                        1697\n",
       "Unspecified                1070\n",
       "Greece                      972\n",
       "United Arab Emirates        750\n",
       "Malta                       677\n",
       "Czech Republic              551\n",
       "European Community          412\n",
       "Lithuania                   390\n",
       "Brazil                      262\n",
       "RSA                         234\n",
       "Bahrain                     234\n",
       "Lebanon                     230\n",
       "Saudi Arabia                 62\n",
       "Name: Quantity, dtype: int64"
      ]
     },
     "execution_count": 26,
     "metadata": {},
     "output_type": "execute_result"
    }
   ],
   "source": [
    "train_data.groupby('Country').sum()['Quantity'].sort_values(ascending=False)"
   ]
  },
  {
   "cell_type": "code",
   "execution_count": 27,
   "id": "38f71c89",
   "metadata": {},
   "outputs": [],
   "source": [
    "top_15countries_acc_to_quantities_sold=train_data.groupby('Country').sum()['Quantity'].sort_values(ascending=False).head(15)"
   ]
  },
  {
   "cell_type": "code",
   "execution_count": 28,
   "id": "3c6b62b9",
   "metadata": {},
   "outputs": [
    {
     "data": {
      "text/plain": [
       "Country\n",
       "United Kingdom     3029694\n",
       "Netherlands         137226\n",
       "EIRE                 95771\n",
       "Germany              83284\n",
       "France               77004\n",
       "Australia            57153\n",
       "Sweden               26915\n",
       "Switzerland          21105\n",
       "Spain                19287\n",
       "Japan                18897\n",
       "Belgium              16558\n",
       "Norway               13350\n",
       "Portugal             11313\n",
       "Finland               7195\n",
       "Channel Islands       6517\n",
       "Name: Quantity, dtype: int64"
      ]
     },
     "execution_count": 28,
     "metadata": {},
     "output_type": "execute_result"
    }
   ],
   "source": [
    "top_15countries_acc_to_quantities_sold"
   ]
  },
  {
   "cell_type": "code",
   "execution_count": 29,
   "id": "a75d1595",
   "metadata": {},
   "outputs": [
    {
     "data": {
      "text/plain": [
       "[]"
      ]
     },
     "execution_count": 29,
     "metadata": {},
     "output_type": "execute_result"
    },
    {
     "data": {
      "image/png": "[encoded data removed]",
      "text/plain": [
       "<Figure size 1000x800 with 1 Axes>"
      ]
     },
     "metadata": {},
     "output_type": "display_data"
    }
   ],
   "source": [
    "plt.figure(figsize=(10,8))\n",
    "top_15countries_acc_to_quantities_sold.plot.bar()\n",
    "plt.title(\"top 15countries acc. to quantities sold\")\n",
    "plt.xlabel('Countries')\n",
    "plt.ylabel('Quantities Sold')\n",
    "plt.plot()"
   ]
  },
  {
   "cell_type": "code",
   "execution_count": 30,
   "id": "b4af9594",
   "metadata": {},
   "outputs": [
    {
     "data": {
      "text/plain": [
       "[]"
      ]
     },
     "execution_count": 30,
     "metadata": {},
     "output_type": "execute_result"
    },
    {
     "data": {
      "image/png": "[encoded data removed]",
      "text/plain": [
       "<Figure size 1000x800 with 1 Axes>"
      ]
     },
     "metadata": {},
     "output_type": "display_data"
    }
   ],
   "source": [
    "plt.figure(figsize=(10,8))\n",
    "train_data.groupby('Country').sum()['Quantity'].sort_values(ascending=False).tail(15).plot.bar()\n",
    "plt.title(\"Bottom 15countries acc. to quantities sold\")\n",
    "plt.xlabel('Countries')\n",
    "plt.ylabel('Quantities Sold')\n",
    "plt.plot()"
   ]
  },
  {
   "cell_type": "code",
   "execution_count": 31,
   "id": "d528a361",
   "metadata": {},
   "outputs": [],
   "source": [
    "import datetime as dt"
   ]
  },
  {
   "cell_type": "code",
   "execution_count": 32,
   "id": "f3a4ad9a",
   "metadata": {},
   "outputs": [
    {
     "data": {
      "text/plain": [
       "InvoiceNo              object\n",
       "StockCode              object\n",
       "Description            object\n",
       "Quantity                int64\n",
       "InvoiceDate    datetime64[ns]\n",
       "UnitPrice             float64\n",
       "CustomerID            float64\n",
       "Country                object\n",
       "dtype: object"
      ]
     },
     "execution_count": 32,
     "metadata": {},
     "output_type": "execute_result"
    }
   ],
   "source": [
    "train_data.dtypes"
   ]
  },
  {
   "cell_type": "code",
   "execution_count": 33,
   "id": "e1b5bbbe",
   "metadata": {},
   "outputs": [
    {
     "data": {
      "text/html": [
       "<div>\n",
       "<style scoped>\n",
       "    .dataframe tbody tr th:only-of-type {\n",
       "        vertical-align: middle;\n",
       "    }\n",
       "\n",
       "    .dataframe tbody tr th {\n",
       "        vertical-align: top;\n",
       "    }\n",
       "\n",
       "    .dataframe thead th {\n",
       "        text-align: right;\n",
       "    }\n",
       "</style>\n",
       "<table border=\"1\" class=\"dataframe\">\n",
       "  <thead>\n",
       "    <tr style=\"text-align: right;\">\n",
       "      <th></th>\n",
       "      <th>InvoiceNo</th>\n",
       "      <th>StockCode</th>\n",
       "      <th>Description</th>\n",
       "      <th>Quantity</th>\n",
       "      <th>InvoiceDate</th>\n",
       "      <th>UnitPrice</th>\n",
       "      <th>CustomerID</th>\n",
       "      <th>Country</th>\n",
       "    </tr>\n",
       "  </thead>\n",
       "  <tbody>\n",
       "    <tr>\n",
       "      <th>1</th>\n",
       "      <td>556072</td>\n",
       "      <td>20970</td>\n",
       "      <td>PINK FLORAL FELTCRAFT SHOULDER BAG</td>\n",
       "      <td>8</td>\n",
       "      <td>2011-06-08 14:57:00</td>\n",
       "      <td>3.75</td>\n",
       "      <td>16126.0</td>\n",
       "      <td>United Kingdom</td>\n",
       "    </tr>\n",
       "    <tr>\n",
       "      <th>2</th>\n",
       "      <td>551739</td>\n",
       "      <td>21559</td>\n",
       "      <td>STRAWBERRY LUNCH BOX WITH CUTLERY</td>\n",
       "      <td>2</td>\n",
       "      <td>2011-05-04 10:58:00</td>\n",
       "      <td>2.55</td>\n",
       "      <td>18118.0</td>\n",
       "      <td>United Kingdom</td>\n",
       "    </tr>\n",
       "    <tr>\n",
       "      <th>3</th>\n",
       "      <td>541658</td>\n",
       "      <td>21988</td>\n",
       "      <td>PACK OF 6 SKULL PAPER PLATES</td>\n",
       "      <td>1</td>\n",
       "      <td>2011-01-20 12:16:00</td>\n",
       "      <td>0.85</td>\n",
       "      <td>15529.0</td>\n",
       "      <td>United Kingdom</td>\n",
       "    </tr>\n",
       "    <tr>\n",
       "      <th>4</th>\n",
       "      <td>538364</td>\n",
       "      <td>85099C</td>\n",
       "      <td>JUMBO  BAG BAROQUE BLACK WHITE</td>\n",
       "      <td>10</td>\n",
       "      <td>2010-12-10 17:26:00</td>\n",
       "      <td>1.95</td>\n",
       "      <td>14448.0</td>\n",
       "      <td>United Kingdom</td>\n",
       "    </tr>\n",
       "    <tr>\n",
       "      <th>5</th>\n",
       "      <td>552306</td>\n",
       "      <td>84789</td>\n",
       "      <td>ENCHANTED BIRD PLANT CAGE</td>\n",
       "      <td>4</td>\n",
       "      <td>2011-05-08 15:20:00</td>\n",
       "      <td>3.75</td>\n",
       "      <td>13911.0</td>\n",
       "      <td>United Kingdom</td>\n",
       "    </tr>\n",
       "  </tbody>\n",
       "</table>\n",
       "</div>"
      ],
      "text/plain": [
       "  InvoiceNo StockCode                         Description  Quantity  \\\n",
       "1    556072     20970  PINK FLORAL FELTCRAFT SHOULDER BAG         8   \n",
       "2    551739     21559   STRAWBERRY LUNCH BOX WITH CUTLERY         2   \n",
       "3    541658     21988        PACK OF 6 SKULL PAPER PLATES         1   \n",
       "4    538364    85099C      JUMBO  BAG BAROQUE BLACK WHITE        10   \n",
       "5    552306     84789           ENCHANTED BIRD PLANT CAGE         4   \n",
       "\n",
       "          InvoiceDate  UnitPrice  CustomerID         Country  \n",
       "1 2011-06-08 14:57:00       3.75     16126.0  United Kingdom  \n",
       "2 2011-05-04 10:58:00       2.55     18118.0  United Kingdom  \n",
       "3 2011-01-20 12:16:00       0.85     15529.0  United Kingdom  \n",
       "4 2010-12-10 17:26:00       1.95     14448.0  United Kingdom  \n",
       "5 2011-05-08 15:20:00       3.75     13911.0  United Kingdom  "
      ]
     },
     "execution_count": 33,
     "metadata": {},
     "output_type": "execute_result"
    }
   ],
   "source": [
    "train_data.head()"
   ]
  },
  {
   "cell_type": "code",
   "execution_count": 34,
   "id": "3864eaf1",
   "metadata": {},
   "outputs": [],
   "source": [
    "train_data.sort_values(by='InvoiceDate',inplace=True)"
   ]
  },
  {
   "cell_type": "code",
   "execution_count": 35,
   "id": "f9ef921a",
   "metadata": {},
   "outputs": [
    {
     "data": {
      "text/html": [
       "<div>\n",
       "<style scoped>\n",
       "    .dataframe tbody tr th:only-of-type {\n",
       "        vertical-align: middle;\n",
       "    }\n",
       "\n",
       "    .dataframe tbody tr th {\n",
       "        vertical-align: top;\n",
       "    }\n",
       "\n",
       "    .dataframe thead th {\n",
       "        text-align: right;\n",
       "    }\n",
       "</style>\n",
       "<table border=\"1\" class=\"dataframe\">\n",
       "  <thead>\n",
       "    <tr style=\"text-align: right;\">\n",
       "      <th></th>\n",
       "      <th>InvoiceNo</th>\n",
       "      <th>StockCode</th>\n",
       "      <th>Description</th>\n",
       "      <th>Quantity</th>\n",
       "      <th>InvoiceDate</th>\n",
       "      <th>UnitPrice</th>\n",
       "      <th>CustomerID</th>\n",
       "      <th>Country</th>\n",
       "    </tr>\n",
       "  </thead>\n",
       "  <tbody>\n",
       "    <tr>\n",
       "      <th>99201</th>\n",
       "      <td>536365</td>\n",
       "      <td>84029G</td>\n",
       "      <td>KNITTED UNION FLAG HOT WATER BOTTLE</td>\n",
       "      <td>6</td>\n",
       "      <td>2010-12-01 08:26:00</td>\n",
       "      <td>3.39</td>\n",
       "      <td>17850.0</td>\n",
       "      <td>United Kingdom</td>\n",
       "    </tr>\n",
       "    <tr>\n",
       "      <th>81407</th>\n",
       "      <td>536365</td>\n",
       "      <td>71053</td>\n",
       "      <td>WHITE METAL LANTERN</td>\n",
       "      <td>6</td>\n",
       "      <td>2010-12-01 08:26:00</td>\n",
       "      <td>3.39</td>\n",
       "      <td>17850.0</td>\n",
       "      <td>United Kingdom</td>\n",
       "    </tr>\n",
       "    <tr>\n",
       "      <th>86726</th>\n",
       "      <td>536365</td>\n",
       "      <td>85123A</td>\n",
       "      <td>WHITE HANGING HEART T-LIGHT HOLDER</td>\n",
       "      <td>6</td>\n",
       "      <td>2010-12-01 08:26:00</td>\n",
       "      <td>2.55</td>\n",
       "      <td>17850.0</td>\n",
       "      <td>United Kingdom</td>\n",
       "    </tr>\n",
       "    <tr>\n",
       "      <th>267050</th>\n",
       "      <td>536365</td>\n",
       "      <td>22752</td>\n",
       "      <td>SET 7 BABUSHKA NESTING BOXES</td>\n",
       "      <td>2</td>\n",
       "      <td>2010-12-01 08:26:00</td>\n",
       "      <td>7.65</td>\n",
       "      <td>17850.0</td>\n",
       "      <td>United Kingdom</td>\n",
       "    </tr>\n",
       "    <tr>\n",
       "      <th>163173</th>\n",
       "      <td>536365</td>\n",
       "      <td>84406B</td>\n",
       "      <td>CREAM CUPID HEARTS COAT HANGER</td>\n",
       "      <td>8</td>\n",
       "      <td>2010-12-01 08:26:00</td>\n",
       "      <td>2.75</td>\n",
       "      <td>17850.0</td>\n",
       "      <td>United Kingdom</td>\n",
       "    </tr>\n",
       "  </tbody>\n",
       "</table>\n",
       "</div>"
      ],
      "text/plain": [
       "       InvoiceNo StockCode                          Description  Quantity  \\\n",
       "99201     536365    84029G  KNITTED UNION FLAG HOT WATER BOTTLE         6   \n",
       "81407     536365     71053                  WHITE METAL LANTERN         6   \n",
       "86726     536365    85123A   WHITE HANGING HEART T-LIGHT HOLDER         6   \n",
       "267050    536365     22752         SET 7 BABUSHKA NESTING BOXES         2   \n",
       "163173    536365    84406B       CREAM CUPID HEARTS COAT HANGER         8   \n",
       "\n",
       "               InvoiceDate  UnitPrice  CustomerID         Country  \n",
       "99201  2010-12-01 08:26:00       3.39     17850.0  United Kingdom  \n",
       "81407  2010-12-01 08:26:00       3.39     17850.0  United Kingdom  \n",
       "86726  2010-12-01 08:26:00       2.55     17850.0  United Kingdom  \n",
       "267050 2010-12-01 08:26:00       7.65     17850.0  United Kingdom  \n",
       "163173 2010-12-01 08:26:00       2.75     17850.0  United Kingdom  "
      ]
     },
     "execution_count": 35,
     "metadata": {},
     "output_type": "execute_result"
    }
   ],
   "source": [
    "train_data.head()"
   ]
  },
  {
   "cell_type": "code",
   "execution_count": 36,
   "id": "68f2749a",
   "metadata": {},
   "outputs": [],
   "source": [
    "train_data['Order_Month']=train_data['InvoiceDate'].dt.to_period('M')"
   ]
  },
  {
   "cell_type": "code",
   "execution_count": 37,
   "id": "64f4bf87",
   "metadata": {},
   "outputs": [
    {
     "data": {
      "text/html": [
       "<div>\n",
       "<style scoped>\n",
       "    .dataframe tbody tr th:only-of-type {\n",
       "        vertical-align: middle;\n",
       "    }\n",
       "\n",
       "    .dataframe tbody tr th {\n",
       "        vertical-align: top;\n",
       "    }\n",
       "\n",
       "    .dataframe thead th {\n",
       "        text-align: right;\n",
       "    }\n",
       "</style>\n",
       "<table border=\"1\" class=\"dataframe\">\n",
       "  <thead>\n",
       "    <tr style=\"text-align: right;\">\n",
       "      <th></th>\n",
       "      <th>InvoiceNo</th>\n",
       "      <th>StockCode</th>\n",
       "      <th>Description</th>\n",
       "      <th>Quantity</th>\n",
       "      <th>InvoiceDate</th>\n",
       "      <th>UnitPrice</th>\n",
       "      <th>CustomerID</th>\n",
       "      <th>Country</th>\n",
       "      <th>Order_Month</th>\n",
       "    </tr>\n",
       "  </thead>\n",
       "  <tbody>\n",
       "    <tr>\n",
       "      <th>99201</th>\n",
       "      <td>536365</td>\n",
       "      <td>84029G</td>\n",
       "      <td>KNITTED UNION FLAG HOT WATER BOTTLE</td>\n",
       "      <td>6</td>\n",
       "      <td>2010-12-01 08:26:00</td>\n",
       "      <td>3.39</td>\n",
       "      <td>17850.0</td>\n",
       "      <td>United Kingdom</td>\n",
       "      <td>2010-12</td>\n",
       "    </tr>\n",
       "    <tr>\n",
       "      <th>81407</th>\n",
       "      <td>536365</td>\n",
       "      <td>71053</td>\n",
       "      <td>WHITE METAL LANTERN</td>\n",
       "      <td>6</td>\n",
       "      <td>2010-12-01 08:26:00</td>\n",
       "      <td>3.39</td>\n",
       "      <td>17850.0</td>\n",
       "      <td>United Kingdom</td>\n",
       "      <td>2010-12</td>\n",
       "    </tr>\n",
       "    <tr>\n",
       "      <th>86726</th>\n",
       "      <td>536365</td>\n",
       "      <td>85123A</td>\n",
       "      <td>WHITE HANGING HEART T-LIGHT HOLDER</td>\n",
       "      <td>6</td>\n",
       "      <td>2010-12-01 08:26:00</td>\n",
       "      <td>2.55</td>\n",
       "      <td>17850.0</td>\n",
       "      <td>United Kingdom</td>\n",
       "      <td>2010-12</td>\n",
       "    </tr>\n",
       "    <tr>\n",
       "      <th>267050</th>\n",
       "      <td>536365</td>\n",
       "      <td>22752</td>\n",
       "      <td>SET 7 BABUSHKA NESTING BOXES</td>\n",
       "      <td>2</td>\n",
       "      <td>2010-12-01 08:26:00</td>\n",
       "      <td>7.65</td>\n",
       "      <td>17850.0</td>\n",
       "      <td>United Kingdom</td>\n",
       "      <td>2010-12</td>\n",
       "    </tr>\n",
       "    <tr>\n",
       "      <th>163173</th>\n",
       "      <td>536365</td>\n",
       "      <td>84406B</td>\n",
       "      <td>CREAM CUPID HEARTS COAT HANGER</td>\n",
       "      <td>8</td>\n",
       "      <td>2010-12-01 08:26:00</td>\n",
       "      <td>2.75</td>\n",
       "      <td>17850.0</td>\n",
       "      <td>United Kingdom</td>\n",
       "      <td>2010-12</td>\n",
       "    </tr>\n",
       "  </tbody>\n",
       "</table>\n",
       "</div>"
      ],
      "text/plain": [
       "       InvoiceNo StockCode                          Description  Quantity  \\\n",
       "99201     536365    84029G  KNITTED UNION FLAG HOT WATER BOTTLE         6   \n",
       "81407     536365     71053                  WHITE METAL LANTERN         6   \n",
       "86726     536365    85123A   WHITE HANGING HEART T-LIGHT HOLDER         6   \n",
       "267050    536365     22752         SET 7 BABUSHKA NESTING BOXES         2   \n",
       "163173    536365    84406B       CREAM CUPID HEARTS COAT HANGER         8   \n",
       "\n",
       "               InvoiceDate  UnitPrice  CustomerID         Country Order_Month  \n",
       "99201  2010-12-01 08:26:00       3.39     17850.0  United Kingdom     2010-12  \n",
       "81407  2010-12-01 08:26:00       3.39     17850.0  United Kingdom     2010-12  \n",
       "86726  2010-12-01 08:26:00       2.55     17850.0  United Kingdom     2010-12  \n",
       "267050 2010-12-01 08:26:00       7.65     17850.0  United Kingdom     2010-12  \n",
       "163173 2010-12-01 08:26:00       2.75     17850.0  United Kingdom     2010-12  "
      ]
     },
     "execution_count": 37,
     "metadata": {},
     "output_type": "execute_result"
    }
   ],
   "source": [
    "train_data.head()"
   ]
  },
  {
   "cell_type": "markdown",
   "id": "82e0720e",
   "metadata": {},
   "source": [
    "## Data Transformation: "
   ]
  },
  {
   "cell_type": "code",
   "execution_count": 38,
   "id": "997894af",
   "metadata": {},
   "outputs": [],
   "source": [
    "#Q2. Perform cohort analysis (a cohort is a group of subjects that share a defining characteristic). Observe how a cohort behaves across time and compare it to other cohorts."
   ]
  },
  {
   "cell_type": "code",
   "execution_count": 39,
   "id": "fbb5017d",
   "metadata": {},
   "outputs": [],
   "source": [
    "#2a. Create month cohorts and analyze active customers for each cohort.\n",
    "train_data['Cohort_Month']=train_data.groupby('CustomerID')['InvoiceDate'].transform('min').dt.to_period('M')"
   ]
  },
  {
   "cell_type": "code",
   "execution_count": 40,
   "id": "54b5d02f",
   "metadata": {},
   "outputs": [
    {
     "data": {
      "text/html": [
       "<div>\n",
       "<style scoped>\n",
       "    .dataframe tbody tr th:only-of-type {\n",
       "        vertical-align: middle;\n",
       "    }\n",
       "\n",
       "    .dataframe tbody tr th {\n",
       "        vertical-align: top;\n",
       "    }\n",
       "\n",
       "    .dataframe thead th {\n",
       "        text-align: right;\n",
       "    }\n",
       "</style>\n",
       "<table border=\"1\" class=\"dataframe\">\n",
       "  <thead>\n",
       "    <tr style=\"text-align: right;\">\n",
       "      <th></th>\n",
       "      <th>InvoiceNo</th>\n",
       "      <th>StockCode</th>\n",
       "      <th>Description</th>\n",
       "      <th>Quantity</th>\n",
       "      <th>InvoiceDate</th>\n",
       "      <th>UnitPrice</th>\n",
       "      <th>CustomerID</th>\n",
       "      <th>Country</th>\n",
       "      <th>Order_Month</th>\n",
       "      <th>Cohort_Month</th>\n",
       "    </tr>\n",
       "  </thead>\n",
       "  <tbody>\n",
       "    <tr>\n",
       "      <th>99201</th>\n",
       "      <td>536365</td>\n",
       "      <td>84029G</td>\n",
       "      <td>KNITTED UNION FLAG HOT WATER BOTTLE</td>\n",
       "      <td>6</td>\n",
       "      <td>2010-12-01 08:26:00</td>\n",
       "      <td>3.39</td>\n",
       "      <td>17850.0</td>\n",
       "      <td>United Kingdom</td>\n",
       "      <td>2010-12</td>\n",
       "      <td>2010-12</td>\n",
       "    </tr>\n",
       "    <tr>\n",
       "      <th>81407</th>\n",
       "      <td>536365</td>\n",
       "      <td>71053</td>\n",
       "      <td>WHITE METAL LANTERN</td>\n",
       "      <td>6</td>\n",
       "      <td>2010-12-01 08:26:00</td>\n",
       "      <td>3.39</td>\n",
       "      <td>17850.0</td>\n",
       "      <td>United Kingdom</td>\n",
       "      <td>2010-12</td>\n",
       "      <td>2010-12</td>\n",
       "    </tr>\n",
       "    <tr>\n",
       "      <th>86726</th>\n",
       "      <td>536365</td>\n",
       "      <td>85123A</td>\n",
       "      <td>WHITE HANGING HEART T-LIGHT HOLDER</td>\n",
       "      <td>6</td>\n",
       "      <td>2010-12-01 08:26:00</td>\n",
       "      <td>2.55</td>\n",
       "      <td>17850.0</td>\n",
       "      <td>United Kingdom</td>\n",
       "      <td>2010-12</td>\n",
       "      <td>2010-12</td>\n",
       "    </tr>\n",
       "    <tr>\n",
       "      <th>267050</th>\n",
       "      <td>536365</td>\n",
       "      <td>22752</td>\n",
       "      <td>SET 7 BABUSHKA NESTING BOXES</td>\n",
       "      <td>2</td>\n",
       "      <td>2010-12-01 08:26:00</td>\n",
       "      <td>7.65</td>\n",
       "      <td>17850.0</td>\n",
       "      <td>United Kingdom</td>\n",
       "      <td>2010-12</td>\n",
       "      <td>2010-12</td>\n",
       "    </tr>\n",
       "    <tr>\n",
       "      <th>163173</th>\n",
       "      <td>536365</td>\n",
       "      <td>84406B</td>\n",
       "      <td>CREAM CUPID HEARTS COAT HANGER</td>\n",
       "      <td>8</td>\n",
       "      <td>2010-12-01 08:26:00</td>\n",
       "      <td>2.75</td>\n",
       "      <td>17850.0</td>\n",
       "      <td>United Kingdom</td>\n",
       "      <td>2010-12</td>\n",
       "      <td>2010-12</td>\n",
       "    </tr>\n",
       "  </tbody>\n",
       "</table>\n",
       "</div>"
      ],
      "text/plain": [
       "       InvoiceNo StockCode                          Description  Quantity  \\\n",
       "99201     536365    84029G  KNITTED UNION FLAG HOT WATER BOTTLE         6   \n",
       "81407     536365     71053                  WHITE METAL LANTERN         6   \n",
       "86726     536365    85123A   WHITE HANGING HEART T-LIGHT HOLDER         6   \n",
       "267050    536365     22752         SET 7 BABUSHKA NESTING BOXES         2   \n",
       "163173    536365    84406B       CREAM CUPID HEARTS COAT HANGER         8   \n",
       "\n",
       "               InvoiceDate  UnitPrice  CustomerID         Country Order_Month  \\\n",
       "99201  2010-12-01 08:26:00       3.39     17850.0  United Kingdom     2010-12   \n",
       "81407  2010-12-01 08:26:00       3.39     17850.0  United Kingdom     2010-12   \n",
       "86726  2010-12-01 08:26:00       2.55     17850.0  United Kingdom     2010-12   \n",
       "267050 2010-12-01 08:26:00       7.65     17850.0  United Kingdom     2010-12   \n",
       "163173 2010-12-01 08:26:00       2.75     17850.0  United Kingdom     2010-12   \n",
       "\n",
       "       Cohort_Month  \n",
       "99201       2010-12  \n",
       "81407       2010-12  \n",
       "86726       2010-12  \n",
       "267050      2010-12  \n",
       "163173      2010-12  "
      ]
     },
     "execution_count": 40,
     "metadata": {},
     "output_type": "execute_result"
    }
   ],
   "source": [
    "train_data.head()"
   ]
  },
  {
   "cell_type": "code",
   "execution_count": 41,
   "id": "e81ab2ee",
   "metadata": {},
   "outputs": [],
   "source": [
    "retail_cohort=train_data.groupby(['Order_Month','Cohort_Month']).agg(n_customers=('CustomerID','nunique')).reset_index()"
   ]
  },
  {
   "cell_type": "code",
   "execution_count": 42,
   "id": "d977a71c",
   "metadata": {},
   "outputs": [
    {
     "data": {
      "text/html": [
       "<div>\n",
       "<style scoped>\n",
       "    .dataframe tbody tr th:only-of-type {\n",
       "        vertical-align: middle;\n",
       "    }\n",
       "\n",
       "    .dataframe tbody tr th {\n",
       "        vertical-align: top;\n",
       "    }\n",
       "\n",
       "    .dataframe thead th {\n",
       "        text-align: right;\n",
       "    }\n",
       "</style>\n",
       "<table border=\"1\" class=\"dataframe\">\n",
       "  <thead>\n",
       "    <tr style=\"text-align: right;\">\n",
       "      <th></th>\n",
       "      <th>Order_Month</th>\n",
       "      <th>Cohort_Month</th>\n",
       "      <th>n_customers</th>\n",
       "    </tr>\n",
       "  </thead>\n",
       "  <tbody>\n",
       "    <tr>\n",
       "      <th>0</th>\n",
       "      <td>2010-12</td>\n",
       "      <td>2010-12</td>\n",
       "      <td>872</td>\n",
       "    </tr>\n",
       "    <tr>\n",
       "      <th>1</th>\n",
       "      <td>2011-01</td>\n",
       "      <td>2010-12</td>\n",
       "      <td>319</td>\n",
       "    </tr>\n",
       "    <tr>\n",
       "      <th>2</th>\n",
       "      <td>2011-01</td>\n",
       "      <td>2011-01</td>\n",
       "      <td>416</td>\n",
       "    </tr>\n",
       "    <tr>\n",
       "      <th>3</th>\n",
       "      <td>2011-02</td>\n",
       "      <td>2010-12</td>\n",
       "      <td>276</td>\n",
       "    </tr>\n",
       "    <tr>\n",
       "      <th>4</th>\n",
       "      <td>2011-02</td>\n",
       "      <td>2011-01</td>\n",
       "      <td>92</td>\n",
       "    </tr>\n",
       "    <tr>\n",
       "      <th>...</th>\n",
       "      <td>...</td>\n",
       "      <td>...</td>\n",
       "      <td>...</td>\n",
       "    </tr>\n",
       "    <tr>\n",
       "      <th>86</th>\n",
       "      <td>2011-12</td>\n",
       "      <td>2011-08</td>\n",
       "      <td>21</td>\n",
       "    </tr>\n",
       "    <tr>\n",
       "      <th>87</th>\n",
       "      <td>2011-12</td>\n",
       "      <td>2011-09</td>\n",
       "      <td>35</td>\n",
       "    </tr>\n",
       "    <tr>\n",
       "      <th>88</th>\n",
       "      <td>2011-12</td>\n",
       "      <td>2011-10</td>\n",
       "      <td>41</td>\n",
       "    </tr>\n",
       "    <tr>\n",
       "      <th>89</th>\n",
       "      <td>2011-12</td>\n",
       "      <td>2011-11</td>\n",
       "      <td>36</td>\n",
       "    </tr>\n",
       "    <tr>\n",
       "      <th>90</th>\n",
       "      <td>2011-12</td>\n",
       "      <td>2011-12</td>\n",
       "      <td>39</td>\n",
       "    </tr>\n",
       "  </tbody>\n",
       "</table>\n",
       "<p>91 rows × 3 columns</p>\n",
       "</div>"
      ],
      "text/plain": [
       "   Order_Month Cohort_Month  n_customers\n",
       "0      2010-12      2010-12          872\n",
       "1      2011-01      2010-12          319\n",
       "2      2011-01      2011-01          416\n",
       "3      2011-02      2010-12          276\n",
       "4      2011-02      2011-01           92\n",
       "..         ...          ...          ...\n",
       "86     2011-12      2011-08           21\n",
       "87     2011-12      2011-09           35\n",
       "88     2011-12      2011-10           41\n",
       "89     2011-12      2011-11           36\n",
       "90     2011-12      2011-12           39\n",
       "\n",
       "[91 rows x 3 columns]"
      ]
     },
     "execution_count": 42,
     "metadata": {},
     "output_type": "execute_result"
    }
   ],
   "source": [
    "retail_cohort"
   ]
  },
  {
   "cell_type": "code",
   "execution_count": 43,
   "id": "1cec9f72",
   "metadata": {},
   "outputs": [],
   "source": [
    "retail_cohort['period']=retail_cohort['Order_Month']-retail_cohort['Cohort_Month']"
   ]
  },
  {
   "cell_type": "code",
   "execution_count": 44,
   "id": "50569e68",
   "metadata": {},
   "outputs": [],
   "source": [
    "retail_cohort['period']=retail_cohort['period'].apply(lambda x:x.n)"
   ]
  },
  {
   "cell_type": "code",
   "execution_count": 45,
   "id": "748e2b39",
   "metadata": {},
   "outputs": [
    {
     "data": {
      "text/html": [
       "<div>\n",
       "<style scoped>\n",
       "    .dataframe tbody tr th:only-of-type {\n",
       "        vertical-align: middle;\n",
       "    }\n",
       "\n",
       "    .dataframe tbody tr th {\n",
       "        vertical-align: top;\n",
       "    }\n",
       "\n",
       "    .dataframe thead th {\n",
       "        text-align: right;\n",
       "    }\n",
       "</style>\n",
       "<table border=\"1\" class=\"dataframe\">\n",
       "  <thead>\n",
       "    <tr style=\"text-align: right;\">\n",
       "      <th></th>\n",
       "      <th>Order_Month</th>\n",
       "      <th>Cohort_Month</th>\n",
       "      <th>n_customers</th>\n",
       "      <th>period</th>\n",
       "    </tr>\n",
       "  </thead>\n",
       "  <tbody>\n",
       "    <tr>\n",
       "      <th>0</th>\n",
       "      <td>2010-12</td>\n",
       "      <td>2010-12</td>\n",
       "      <td>872</td>\n",
       "      <td>0</td>\n",
       "    </tr>\n",
       "    <tr>\n",
       "      <th>1</th>\n",
       "      <td>2011-01</td>\n",
       "      <td>2010-12</td>\n",
       "      <td>319</td>\n",
       "      <td>1</td>\n",
       "    </tr>\n",
       "    <tr>\n",
       "      <th>2</th>\n",
       "      <td>2011-01</td>\n",
       "      <td>2011-01</td>\n",
       "      <td>416</td>\n",
       "      <td>0</td>\n",
       "    </tr>\n",
       "    <tr>\n",
       "      <th>3</th>\n",
       "      <td>2011-02</td>\n",
       "      <td>2010-12</td>\n",
       "      <td>276</td>\n",
       "      <td>2</td>\n",
       "    </tr>\n",
       "    <tr>\n",
       "      <th>4</th>\n",
       "      <td>2011-02</td>\n",
       "      <td>2011-01</td>\n",
       "      <td>92</td>\n",
       "      <td>1</td>\n",
       "    </tr>\n",
       "  </tbody>\n",
       "</table>\n",
       "</div>"
      ],
      "text/plain": [
       "  Order_Month Cohort_Month  n_customers  period\n",
       "0     2010-12      2010-12          872       0\n",
       "1     2011-01      2010-12          319       1\n",
       "2     2011-01      2011-01          416       0\n",
       "3     2011-02      2010-12          276       2\n",
       "4     2011-02      2011-01           92       1"
      ]
     },
     "execution_count": 45,
     "metadata": {},
     "output_type": "execute_result"
    }
   ],
   "source": [
    "retail_cohort.head()"
   ]
  },
  {
   "cell_type": "code",
   "execution_count": 46,
   "id": "5fe5946d",
   "metadata": {},
   "outputs": [],
   "source": [
    "#Let's create a Pivot table foR Active Customers "
   ]
  },
  {
   "cell_type": "code",
   "execution_count": 47,
   "id": "dacd2bc5",
   "metadata": {},
   "outputs": [],
   "source": [
    "active_customers_table=retail_cohort.pivot_table(index='Cohort_Month',columns='period',values='n_customers')"
   ]
  },
  {
   "cell_type": "code",
   "execution_count": 48,
   "id": "95275963",
   "metadata": {},
   "outputs": [
    {
     "data": {
      "text/html": [
       "<div>\n",
       "<style scoped>\n",
       "    .dataframe tbody tr th:only-of-type {\n",
       "        vertical-align: middle;\n",
       "    }\n",
       "\n",
       "    .dataframe tbody tr th {\n",
       "        vertical-align: top;\n",
       "    }\n",
       "\n",
       "    .dataframe thead th {\n",
       "        text-align: right;\n",
       "    }\n",
       "</style>\n",
       "<table border=\"1\" class=\"dataframe\">\n",
       "  <thead>\n",
       "    <tr style=\"text-align: right;\">\n",
       "      <th>period</th>\n",
       "      <th>0</th>\n",
       "      <th>1</th>\n",
       "      <th>2</th>\n",
       "      <th>3</th>\n",
       "      <th>4</th>\n",
       "      <th>5</th>\n",
       "      <th>6</th>\n",
       "      <th>7</th>\n",
       "      <th>8</th>\n",
       "      <th>9</th>\n",
       "      <th>10</th>\n",
       "      <th>11</th>\n",
       "      <th>12</th>\n",
       "    </tr>\n",
       "    <tr>\n",
       "      <th>Cohort_Month</th>\n",
       "      <th></th>\n",
       "      <th></th>\n",
       "      <th></th>\n",
       "      <th></th>\n",
       "      <th></th>\n",
       "      <th></th>\n",
       "      <th></th>\n",
       "      <th></th>\n",
       "      <th></th>\n",
       "      <th></th>\n",
       "      <th></th>\n",
       "      <th></th>\n",
       "      <th></th>\n",
       "    </tr>\n",
       "  </thead>\n",
       "  <tbody>\n",
       "    <tr>\n",
       "      <th>2010-12</th>\n",
       "      <td>872.0</td>\n",
       "      <td>319.0</td>\n",
       "      <td>276.0</td>\n",
       "      <td>331.0</td>\n",
       "      <td>316.0</td>\n",
       "      <td>347.0</td>\n",
       "      <td>316.0</td>\n",
       "      <td>300.0</td>\n",
       "      <td>306.0</td>\n",
       "      <td>343.0</td>\n",
       "      <td>326.0</td>\n",
       "      <td>434.0</td>\n",
       "      <td>228.0</td>\n",
       "    </tr>\n",
       "    <tr>\n",
       "      <th>2011-01</th>\n",
       "      <td>416.0</td>\n",
       "      <td>92.0</td>\n",
       "      <td>112.0</td>\n",
       "      <td>97.0</td>\n",
       "      <td>136.0</td>\n",
       "      <td>117.0</td>\n",
       "      <td>105.0</td>\n",
       "      <td>102.0</td>\n",
       "      <td>127.0</td>\n",
       "      <td>136.0</td>\n",
       "      <td>154.0</td>\n",
       "      <td>52.0</td>\n",
       "      <td>NaN</td>\n",
       "    </tr>\n",
       "    <tr>\n",
       "      <th>2011-02</th>\n",
       "      <td>377.0</td>\n",
       "      <td>71.0</td>\n",
       "      <td>71.0</td>\n",
       "      <td>103.0</td>\n",
       "      <td>102.0</td>\n",
       "      <td>92.0</td>\n",
       "      <td>93.0</td>\n",
       "      <td>100.0</td>\n",
       "      <td>94.0</td>\n",
       "      <td>114.0</td>\n",
       "      <td>26.0</td>\n",
       "      <td>NaN</td>\n",
       "      <td>NaN</td>\n",
       "    </tr>\n",
       "    <tr>\n",
       "      <th>2011-03</th>\n",
       "      <td>450.0</td>\n",
       "      <td>66.0</td>\n",
       "      <td>112.0</td>\n",
       "      <td>90.0</td>\n",
       "      <td>101.0</td>\n",
       "      <td>75.0</td>\n",
       "      <td>119.0</td>\n",
       "      <td>102.0</td>\n",
       "      <td>124.0</td>\n",
       "      <td>37.0</td>\n",
       "      <td>NaN</td>\n",
       "      <td>NaN</td>\n",
       "      <td>NaN</td>\n",
       "    </tr>\n",
       "    <tr>\n",
       "      <th>2011-04</th>\n",
       "      <td>299.0</td>\n",
       "      <td>62.0</td>\n",
       "      <td>60.0</td>\n",
       "      <td>60.0</td>\n",
       "      <td>58.0</td>\n",
       "      <td>68.0</td>\n",
       "      <td>65.0</td>\n",
       "      <td>78.0</td>\n",
       "      <td>21.0</td>\n",
       "      <td>NaN</td>\n",
       "      <td>NaN</td>\n",
       "      <td>NaN</td>\n",
       "      <td>NaN</td>\n",
       "    </tr>\n",
       "    <tr>\n",
       "      <th>2011-05</th>\n",
       "      <td>283.0</td>\n",
       "      <td>53.0</td>\n",
       "      <td>48.0</td>\n",
       "      <td>49.0</td>\n",
       "      <td>58.0</td>\n",
       "      <td>68.0</td>\n",
       "      <td>75.0</td>\n",
       "      <td>27.0</td>\n",
       "      <td>NaN</td>\n",
       "      <td>NaN</td>\n",
       "      <td>NaN</td>\n",
       "      <td>NaN</td>\n",
       "      <td>NaN</td>\n",
       "    </tr>\n",
       "    <tr>\n",
       "      <th>2011-06</th>\n",
       "      <td>244.0</td>\n",
       "      <td>41.0</td>\n",
       "      <td>37.0</td>\n",
       "      <td>62.0</td>\n",
       "      <td>55.0</td>\n",
       "      <td>81.0</td>\n",
       "      <td>23.0</td>\n",
       "      <td>NaN</td>\n",
       "      <td>NaN</td>\n",
       "      <td>NaN</td>\n",
       "      <td>NaN</td>\n",
       "      <td>NaN</td>\n",
       "      <td>NaN</td>\n",
       "    </tr>\n",
       "    <tr>\n",
       "      <th>2011-07</th>\n",
       "      <td>190.0</td>\n",
       "      <td>35.0</td>\n",
       "      <td>38.0</td>\n",
       "      <td>43.0</td>\n",
       "      <td>54.0</td>\n",
       "      <td>21.0</td>\n",
       "      <td>NaN</td>\n",
       "      <td>NaN</td>\n",
       "      <td>NaN</td>\n",
       "      <td>NaN</td>\n",
       "      <td>NaN</td>\n",
       "      <td>NaN</td>\n",
       "      <td>NaN</td>\n",
       "    </tr>\n",
       "    <tr>\n",
       "      <th>2011-08</th>\n",
       "      <td>168.0</td>\n",
       "      <td>35.0</td>\n",
       "      <td>41.0</td>\n",
       "      <td>40.0</td>\n",
       "      <td>21.0</td>\n",
       "      <td>NaN</td>\n",
       "      <td>NaN</td>\n",
       "      <td>NaN</td>\n",
       "      <td>NaN</td>\n",
       "      <td>NaN</td>\n",
       "      <td>NaN</td>\n",
       "      <td>NaN</td>\n",
       "      <td>NaN</td>\n",
       "    </tr>\n",
       "    <tr>\n",
       "      <th>2011-09</th>\n",
       "      <td>300.0</td>\n",
       "      <td>68.0</td>\n",
       "      <td>91.0</td>\n",
       "      <td>35.0</td>\n",
       "      <td>NaN</td>\n",
       "      <td>NaN</td>\n",
       "      <td>NaN</td>\n",
       "      <td>NaN</td>\n",
       "      <td>NaN</td>\n",
       "      <td>NaN</td>\n",
       "      <td>NaN</td>\n",
       "      <td>NaN</td>\n",
       "      <td>NaN</td>\n",
       "    </tr>\n",
       "    <tr>\n",
       "      <th>2011-10</th>\n",
       "      <td>356.0</td>\n",
       "      <td>84.0</td>\n",
       "      <td>41.0</td>\n",
       "      <td>NaN</td>\n",
       "      <td>NaN</td>\n",
       "      <td>NaN</td>\n",
       "      <td>NaN</td>\n",
       "      <td>NaN</td>\n",
       "      <td>NaN</td>\n",
       "      <td>NaN</td>\n",
       "      <td>NaN</td>\n",
       "      <td>NaN</td>\n",
       "      <td>NaN</td>\n",
       "    </tr>\n",
       "    <tr>\n",
       "      <th>2011-11</th>\n",
       "      <td>327.0</td>\n",
       "      <td>36.0</td>\n",
       "      <td>NaN</td>\n",
       "      <td>NaN</td>\n",
       "      <td>NaN</td>\n",
       "      <td>NaN</td>\n",
       "      <td>NaN</td>\n",
       "      <td>NaN</td>\n",
       "      <td>NaN</td>\n",
       "      <td>NaN</td>\n",
       "      <td>NaN</td>\n",
       "      <td>NaN</td>\n",
       "      <td>NaN</td>\n",
       "    </tr>\n",
       "    <tr>\n",
       "      <th>2011-12</th>\n",
       "      <td>39.0</td>\n",
       "      <td>NaN</td>\n",
       "      <td>NaN</td>\n",
       "      <td>NaN</td>\n",
       "      <td>NaN</td>\n",
       "      <td>NaN</td>\n",
       "      <td>NaN</td>\n",
       "      <td>NaN</td>\n",
       "      <td>NaN</td>\n",
       "      <td>NaN</td>\n",
       "      <td>NaN</td>\n",
       "      <td>NaN</td>\n",
       "      <td>NaN</td>\n",
       "    </tr>\n",
       "  </tbody>\n",
       "</table>\n",
       "</div>"
      ],
      "text/plain": [
       "period           0      1      2      3      4      5      6      7      8   \\\n",
       "Cohort_Month                                                                  \n",
       "2010-12       872.0  319.0  276.0  331.0  316.0  347.0  316.0  300.0  306.0   \n",
       "2011-01       416.0   92.0  112.0   97.0  136.0  117.0  105.0  102.0  127.0   \n",
       "2011-02       377.0   71.0   71.0  103.0  102.0   92.0   93.0  100.0   94.0   \n",
       "2011-03       450.0   66.0  112.0   90.0  101.0   75.0  119.0  102.0  124.0   \n",
       "2011-04       299.0   62.0   60.0   60.0   58.0   68.0   65.0   78.0   21.0   \n",
       "2011-05       283.0   53.0   48.0   49.0   58.0   68.0   75.0   27.0    NaN   \n",
       "2011-06       244.0   41.0   37.0   62.0   55.0   81.0   23.0    NaN    NaN   \n",
       "2011-07       190.0   35.0   38.0   43.0   54.0   21.0    NaN    NaN    NaN   \n",
       "2011-08       168.0   35.0   41.0   40.0   21.0    NaN    NaN    NaN    NaN   \n",
       "2011-09       300.0   68.0   91.0   35.0    NaN    NaN    NaN    NaN    NaN   \n",
       "2011-10       356.0   84.0   41.0    NaN    NaN    NaN    NaN    NaN    NaN   \n",
       "2011-11       327.0   36.0    NaN    NaN    NaN    NaN    NaN    NaN    NaN   \n",
       "2011-12        39.0    NaN    NaN    NaN    NaN    NaN    NaN    NaN    NaN   \n",
       "\n",
       "period           9      10     11     12  \n",
       "Cohort_Month                              \n",
       "2010-12       343.0  326.0  434.0  228.0  \n",
       "2011-01       136.0  154.0   52.0    NaN  \n",
       "2011-02       114.0   26.0    NaN    NaN  \n",
       "2011-03        37.0    NaN    NaN    NaN  \n",
       "2011-04         NaN    NaN    NaN    NaN  \n",
       "2011-05         NaN    NaN    NaN    NaN  \n",
       "2011-06         NaN    NaN    NaN    NaN  \n",
       "2011-07         NaN    NaN    NaN    NaN  \n",
       "2011-08         NaN    NaN    NaN    NaN  \n",
       "2011-09         NaN    NaN    NaN    NaN  \n",
       "2011-10         NaN    NaN    NaN    NaN  \n",
       "2011-11         NaN    NaN    NaN    NaN  \n",
       "2011-12         NaN    NaN    NaN    NaN  "
      ]
     },
     "execution_count": 48,
     "metadata": {},
     "output_type": "execute_result"
    }
   ],
   "source": [
    "#a. Create month cohorts and analyze active customers for each cohort.\n",
    "active_customers_table"
   ]
  },
  {
   "cell_type": "code",
   "execution_count": 49,
   "id": "3eef35d9",
   "metadata": {},
   "outputs": [],
   "source": [
    "cohort_size=active_customers_table.iloc[:,0]"
   ]
  },
  {
   "cell_type": "code",
   "execution_count": 50,
   "id": "d5a87afe",
   "metadata": {},
   "outputs": [],
   "source": [
    "#2b. Analyze the retention rate of customers.\n",
    "retention_matrix=active_customers_table.divide(cohort_size,axis=0)"
   ]
  },
  {
   "cell_type": "code",
   "execution_count": 51,
   "id": "99b37c51",
   "metadata": {},
   "outputs": [],
   "source": [
    "retention_matrix=round(retention_matrix,2)"
   ]
  },
  {
   "cell_type": "code",
   "execution_count": 52,
   "id": "7829ad6b",
   "metadata": {},
   "outputs": [
    {
     "data": {
      "text/html": [
       "<div>\n",
       "<style scoped>\n",
       "    .dataframe tbody tr th:only-of-type {\n",
       "        vertical-align: middle;\n",
       "    }\n",
       "\n",
       "    .dataframe tbody tr th {\n",
       "        vertical-align: top;\n",
       "    }\n",
       "\n",
       "    .dataframe thead th {\n",
       "        text-align: right;\n",
       "    }\n",
       "</style>\n",
       "<table border=\"1\" class=\"dataframe\">\n",
       "  <thead>\n",
       "    <tr style=\"text-align: right;\">\n",
       "      <th>period</th>\n",
       "      <th>0</th>\n",
       "      <th>1</th>\n",
       "      <th>2</th>\n",
       "      <th>3</th>\n",
       "      <th>4</th>\n",
       "      <th>5</th>\n",
       "      <th>6</th>\n",
       "      <th>7</th>\n",
       "      <th>8</th>\n",
       "      <th>9</th>\n",
       "      <th>10</th>\n",
       "      <th>11</th>\n",
       "      <th>12</th>\n",
       "    </tr>\n",
       "    <tr>\n",
       "      <th>Cohort_Month</th>\n",
       "      <th></th>\n",
       "      <th></th>\n",
       "      <th></th>\n",
       "      <th></th>\n",
       "      <th></th>\n",
       "      <th></th>\n",
       "      <th></th>\n",
       "      <th></th>\n",
       "      <th></th>\n",
       "      <th></th>\n",
       "      <th></th>\n",
       "      <th></th>\n",
       "      <th></th>\n",
       "    </tr>\n",
       "  </thead>\n",
       "  <tbody>\n",
       "    <tr>\n",
       "      <th>2010-12</th>\n",
       "      <td>1.0</td>\n",
       "      <td>0.37</td>\n",
       "      <td>0.32</td>\n",
       "      <td>0.38</td>\n",
       "      <td>0.36</td>\n",
       "      <td>0.40</td>\n",
       "      <td>0.36</td>\n",
       "      <td>0.34</td>\n",
       "      <td>0.35</td>\n",
       "      <td>0.39</td>\n",
       "      <td>0.37</td>\n",
       "      <td>0.50</td>\n",
       "      <td>0.26</td>\n",
       "    </tr>\n",
       "    <tr>\n",
       "      <th>2011-01</th>\n",
       "      <td>1.0</td>\n",
       "      <td>0.22</td>\n",
       "      <td>0.27</td>\n",
       "      <td>0.23</td>\n",
       "      <td>0.33</td>\n",
       "      <td>0.28</td>\n",
       "      <td>0.25</td>\n",
       "      <td>0.25</td>\n",
       "      <td>0.31</td>\n",
       "      <td>0.33</td>\n",
       "      <td>0.37</td>\n",
       "      <td>0.12</td>\n",
       "      <td>NaN</td>\n",
       "    </tr>\n",
       "    <tr>\n",
       "      <th>2011-02</th>\n",
       "      <td>1.0</td>\n",
       "      <td>0.19</td>\n",
       "      <td>0.19</td>\n",
       "      <td>0.27</td>\n",
       "      <td>0.27</td>\n",
       "      <td>0.24</td>\n",
       "      <td>0.25</td>\n",
       "      <td>0.27</td>\n",
       "      <td>0.25</td>\n",
       "      <td>0.30</td>\n",
       "      <td>0.07</td>\n",
       "      <td>NaN</td>\n",
       "      <td>NaN</td>\n",
       "    </tr>\n",
       "    <tr>\n",
       "      <th>2011-03</th>\n",
       "      <td>1.0</td>\n",
       "      <td>0.15</td>\n",
       "      <td>0.25</td>\n",
       "      <td>0.20</td>\n",
       "      <td>0.22</td>\n",
       "      <td>0.17</td>\n",
       "      <td>0.26</td>\n",
       "      <td>0.23</td>\n",
       "      <td>0.28</td>\n",
       "      <td>0.08</td>\n",
       "      <td>NaN</td>\n",
       "      <td>NaN</td>\n",
       "      <td>NaN</td>\n",
       "    </tr>\n",
       "    <tr>\n",
       "      <th>2011-04</th>\n",
       "      <td>1.0</td>\n",
       "      <td>0.21</td>\n",
       "      <td>0.20</td>\n",
       "      <td>0.20</td>\n",
       "      <td>0.19</td>\n",
       "      <td>0.23</td>\n",
       "      <td>0.22</td>\n",
       "      <td>0.26</td>\n",
       "      <td>0.07</td>\n",
       "      <td>NaN</td>\n",
       "      <td>NaN</td>\n",
       "      <td>NaN</td>\n",
       "      <td>NaN</td>\n",
       "    </tr>\n",
       "    <tr>\n",
       "      <th>2011-05</th>\n",
       "      <td>1.0</td>\n",
       "      <td>0.19</td>\n",
       "      <td>0.17</td>\n",
       "      <td>0.17</td>\n",
       "      <td>0.20</td>\n",
       "      <td>0.24</td>\n",
       "      <td>0.27</td>\n",
       "      <td>0.10</td>\n",
       "      <td>NaN</td>\n",
       "      <td>NaN</td>\n",
       "      <td>NaN</td>\n",
       "      <td>NaN</td>\n",
       "      <td>NaN</td>\n",
       "    </tr>\n",
       "    <tr>\n",
       "      <th>2011-06</th>\n",
       "      <td>1.0</td>\n",
       "      <td>0.17</td>\n",
       "      <td>0.15</td>\n",
       "      <td>0.25</td>\n",
       "      <td>0.23</td>\n",
       "      <td>0.33</td>\n",
       "      <td>0.09</td>\n",
       "      <td>NaN</td>\n",
       "      <td>NaN</td>\n",
       "      <td>NaN</td>\n",
       "      <td>NaN</td>\n",
       "      <td>NaN</td>\n",
       "      <td>NaN</td>\n",
       "    </tr>\n",
       "    <tr>\n",
       "      <th>2011-07</th>\n",
       "      <td>1.0</td>\n",
       "      <td>0.18</td>\n",
       "      <td>0.20</td>\n",
       "      <td>0.23</td>\n",
       "      <td>0.28</td>\n",
       "      <td>0.11</td>\n",
       "      <td>NaN</td>\n",
       "      <td>NaN</td>\n",
       "      <td>NaN</td>\n",
       "      <td>NaN</td>\n",
       "      <td>NaN</td>\n",
       "      <td>NaN</td>\n",
       "      <td>NaN</td>\n",
       "    </tr>\n",
       "    <tr>\n",
       "      <th>2011-08</th>\n",
       "      <td>1.0</td>\n",
       "      <td>0.21</td>\n",
       "      <td>0.24</td>\n",
       "      <td>0.24</td>\n",
       "      <td>0.12</td>\n",
       "      <td>NaN</td>\n",
       "      <td>NaN</td>\n",
       "      <td>NaN</td>\n",
       "      <td>NaN</td>\n",
       "      <td>NaN</td>\n",
       "      <td>NaN</td>\n",
       "      <td>NaN</td>\n",
       "      <td>NaN</td>\n",
       "    </tr>\n",
       "    <tr>\n",
       "      <th>2011-09</th>\n",
       "      <td>1.0</td>\n",
       "      <td>0.23</td>\n",
       "      <td>0.30</td>\n",
       "      <td>0.12</td>\n",
       "      <td>NaN</td>\n",
       "      <td>NaN</td>\n",
       "      <td>NaN</td>\n",
       "      <td>NaN</td>\n",
       "      <td>NaN</td>\n",
       "      <td>NaN</td>\n",
       "      <td>NaN</td>\n",
       "      <td>NaN</td>\n",
       "      <td>NaN</td>\n",
       "    </tr>\n",
       "    <tr>\n",
       "      <th>2011-10</th>\n",
       "      <td>1.0</td>\n",
       "      <td>0.24</td>\n",
       "      <td>0.12</td>\n",
       "      <td>NaN</td>\n",
       "      <td>NaN</td>\n",
       "      <td>NaN</td>\n",
       "      <td>NaN</td>\n",
       "      <td>NaN</td>\n",
       "      <td>NaN</td>\n",
       "      <td>NaN</td>\n",
       "      <td>NaN</td>\n",
       "      <td>NaN</td>\n",
       "      <td>NaN</td>\n",
       "    </tr>\n",
       "    <tr>\n",
       "      <th>2011-11</th>\n",
       "      <td>1.0</td>\n",
       "      <td>0.11</td>\n",
       "      <td>NaN</td>\n",
       "      <td>NaN</td>\n",
       "      <td>NaN</td>\n",
       "      <td>NaN</td>\n",
       "      <td>NaN</td>\n",
       "      <td>NaN</td>\n",
       "      <td>NaN</td>\n",
       "      <td>NaN</td>\n",
       "      <td>NaN</td>\n",
       "      <td>NaN</td>\n",
       "      <td>NaN</td>\n",
       "    </tr>\n",
       "    <tr>\n",
       "      <th>2011-12</th>\n",
       "      <td>1.0</td>\n",
       "      <td>NaN</td>\n",
       "      <td>NaN</td>\n",
       "      <td>NaN</td>\n",
       "      <td>NaN</td>\n",
       "      <td>NaN</td>\n",
       "      <td>NaN</td>\n",
       "      <td>NaN</td>\n",
       "      <td>NaN</td>\n",
       "      <td>NaN</td>\n",
       "      <td>NaN</td>\n",
       "      <td>NaN</td>\n",
       "      <td>NaN</td>\n",
       "    </tr>\n",
       "  </tbody>\n",
       "</table>\n",
       "</div>"
      ],
      "text/plain": [
       "period         0     1     2     3     4     5     6     7     8     9     10  \\\n",
       "Cohort_Month                                                                    \n",
       "2010-12       1.0  0.37  0.32  0.38  0.36  0.40  0.36  0.34  0.35  0.39  0.37   \n",
       "2011-01       1.0  0.22  0.27  0.23  0.33  0.28  0.25  0.25  0.31  0.33  0.37   \n",
       "2011-02       1.0  0.19  0.19  0.27  0.27  0.24  0.25  0.27  0.25  0.30  0.07   \n",
       "2011-03       1.0  0.15  0.25  0.20  0.22  0.17  0.26  0.23  0.28  0.08   NaN   \n",
       "2011-04       1.0  0.21  0.20  0.20  0.19  0.23  0.22  0.26  0.07   NaN   NaN   \n",
       "2011-05       1.0  0.19  0.17  0.17  0.20  0.24  0.27  0.10   NaN   NaN   NaN   \n",
       "2011-06       1.0  0.17  0.15  0.25  0.23  0.33  0.09   NaN   NaN   NaN   NaN   \n",
       "2011-07       1.0  0.18  0.20  0.23  0.28  0.11   NaN   NaN   NaN   NaN   NaN   \n",
       "2011-08       1.0  0.21  0.24  0.24  0.12   NaN   NaN   NaN   NaN   NaN   NaN   \n",
       "2011-09       1.0  0.23  0.30  0.12   NaN   NaN   NaN   NaN   NaN   NaN   NaN   \n",
       "2011-10       1.0  0.24  0.12   NaN   NaN   NaN   NaN   NaN   NaN   NaN   NaN   \n",
       "2011-11       1.0  0.11   NaN   NaN   NaN   NaN   NaN   NaN   NaN   NaN   NaN   \n",
       "2011-12       1.0   NaN   NaN   NaN   NaN   NaN   NaN   NaN   NaN   NaN   NaN   \n",
       "\n",
       "period          11    12  \n",
       "Cohort_Month              \n",
       "2010-12       0.50  0.26  \n",
       "2011-01       0.12   NaN  \n",
       "2011-02        NaN   NaN  \n",
       "2011-03        NaN   NaN  \n",
       "2011-04        NaN   NaN  \n",
       "2011-05        NaN   NaN  \n",
       "2011-06        NaN   NaN  \n",
       "2011-07        NaN   NaN  \n",
       "2011-08        NaN   NaN  \n",
       "2011-09        NaN   NaN  \n",
       "2011-10        NaN   NaN  \n",
       "2011-11        NaN   NaN  \n",
       "2011-12        NaN   NaN  "
      ]
     },
     "execution_count": 52,
     "metadata": {},
     "output_type": "execute_result"
    }
   ],
   "source": [
    "retention_matrix"
   ]
  },
  {
   "cell_type": "code",
   "execution_count": 53,
   "id": "b0e4d416",
   "metadata": {},
   "outputs": [
    {
     "data": {
      "image/png": "[encoded data removed]",
      "text/plain": [
       "<Figure size 2000x2000 with 2 Axes>"
      ]
     },
     "metadata": {},
     "output_type": "display_data"
    }
   ],
   "source": [
    "plt.figure(figsize=(20,20))\n",
    "sns.heatmap(retention_matrix,annot=True,fmt='.0%',cmap='Greens')\n",
    "plt.title(\"Retention matrix heatmap for active customers\")\n",
    "plt.show()"
   ]
  },
  {
   "cell_type": "code",
   "execution_count": 54,
   "id": "a86b05f8",
   "metadata": {},
   "outputs": [],
   "source": [
    "# Insights from Retention matrix\n",
    "#1. The customers registered in December 10 retained only 37% in next following month and first cohort December 2010 performed\n",
    "#  well in all cohorts as it get retain 50% customers back after almost 1 year"
   ]
  },
  {
   "cell_type": "markdown",
   "id": "acde0475",
   "metadata": {},
   "source": [
    "## Data Modeling :"
   ]
  },
  {
   "cell_type": "code",
   "execution_count": 55,
   "id": "0d1a8b71",
   "metadata": {},
   "outputs": [],
   "source": [
    "#1. Build a RFM (Recency Frequency Monetary) model. Recency means the number of days since a customer made the last purchase. Frequency is the number of purchase in a given period. It could be 3 months, 6 months or 1 year. Monetary is the total amount of money a customer spent in that given period. Therefore, big spenders will be differentiated among other customers such as MVP (Minimum Viable Product) or VIP."
   ]
  },
  {
   "cell_type": "code",
   "execution_count": 56,
   "id": "cb9829f8",
   "metadata": {},
   "outputs": [
    {
     "data": {
      "text/plain": [
       "Index(['InvoiceNo', 'StockCode', 'Description', 'Quantity', 'InvoiceDate',\n",
       "       'UnitPrice', 'CustomerID', 'Country', 'Order_Month', 'Cohort_Month'],\n",
       "      dtype='object')"
      ]
     },
     "execution_count": 56,
     "metadata": {},
     "output_type": "execute_result"
    }
   ],
   "source": [
    "train_data.columns"
   ]
  },
  {
   "cell_type": "code",
   "execution_count": 57,
   "id": "52105d5e",
   "metadata": {},
   "outputs": [],
   "source": [
    "train_data['Customer_last_order_date']=train_data.groupby('CustomerID')['InvoiceDate'].transform('max')"
   ]
  },
  {
   "cell_type": "code",
   "execution_count": 58,
   "id": "ee39e747",
   "metadata": {},
   "outputs": [],
   "source": [
    "train_data['Reference_date']=train_data['InvoiceDate'].max()+dt.timedelta(1)"
   ]
  },
  {
   "cell_type": "code",
   "execution_count": 59,
   "id": "c7e2bc26",
   "metadata": {},
   "outputs": [
    {
     "data": {
      "text/html": [
       "<div>\n",
       "<style scoped>\n",
       "    .dataframe tbody tr th:only-of-type {\n",
       "        vertical-align: middle;\n",
       "    }\n",
       "\n",
       "    .dataframe tbody tr th {\n",
       "        vertical-align: top;\n",
       "    }\n",
       "\n",
       "    .dataframe thead th {\n",
       "        text-align: right;\n",
       "    }\n",
       "</style>\n",
       "<table border=\"1\" class=\"dataframe\">\n",
       "  <thead>\n",
       "    <tr style=\"text-align: right;\">\n",
       "      <th></th>\n",
       "      <th>InvoiceNo</th>\n",
       "      <th>StockCode</th>\n",
       "      <th>Description</th>\n",
       "      <th>Quantity</th>\n",
       "      <th>InvoiceDate</th>\n",
       "      <th>UnitPrice</th>\n",
       "      <th>CustomerID</th>\n",
       "      <th>Country</th>\n",
       "      <th>Order_Month</th>\n",
       "      <th>Cohort_Month</th>\n",
       "      <th>Customer_last_order_date</th>\n",
       "      <th>Reference_date</th>\n",
       "    </tr>\n",
       "  </thead>\n",
       "  <tbody>\n",
       "    <tr>\n",
       "      <th>99201</th>\n",
       "      <td>536365</td>\n",
       "      <td>84029G</td>\n",
       "      <td>KNITTED UNION FLAG HOT WATER BOTTLE</td>\n",
       "      <td>6</td>\n",
       "      <td>2010-12-01 08:26:00</td>\n",
       "      <td>3.39</td>\n",
       "      <td>17850.0</td>\n",
       "      <td>United Kingdom</td>\n",
       "      <td>2010-12</td>\n",
       "      <td>2010-12</td>\n",
       "      <td>2010-12-02 15:27:00</td>\n",
       "      <td>2011-12-10 12:50:00</td>\n",
       "    </tr>\n",
       "    <tr>\n",
       "      <th>81407</th>\n",
       "      <td>536365</td>\n",
       "      <td>71053</td>\n",
       "      <td>WHITE METAL LANTERN</td>\n",
       "      <td>6</td>\n",
       "      <td>2010-12-01 08:26:00</td>\n",
       "      <td>3.39</td>\n",
       "      <td>17850.0</td>\n",
       "      <td>United Kingdom</td>\n",
       "      <td>2010-12</td>\n",
       "      <td>2010-12</td>\n",
       "      <td>2010-12-02 15:27:00</td>\n",
       "      <td>2011-12-10 12:50:00</td>\n",
       "    </tr>\n",
       "    <tr>\n",
       "      <th>86726</th>\n",
       "      <td>536365</td>\n",
       "      <td>85123A</td>\n",
       "      <td>WHITE HANGING HEART T-LIGHT HOLDER</td>\n",
       "      <td>6</td>\n",
       "      <td>2010-12-01 08:26:00</td>\n",
       "      <td>2.55</td>\n",
       "      <td>17850.0</td>\n",
       "      <td>United Kingdom</td>\n",
       "      <td>2010-12</td>\n",
       "      <td>2010-12</td>\n",
       "      <td>2010-12-02 15:27:00</td>\n",
       "      <td>2011-12-10 12:50:00</td>\n",
       "    </tr>\n",
       "    <tr>\n",
       "      <th>267050</th>\n",
       "      <td>536365</td>\n",
       "      <td>22752</td>\n",
       "      <td>SET 7 BABUSHKA NESTING BOXES</td>\n",
       "      <td>2</td>\n",
       "      <td>2010-12-01 08:26:00</td>\n",
       "      <td>7.65</td>\n",
       "      <td>17850.0</td>\n",
       "      <td>United Kingdom</td>\n",
       "      <td>2010-12</td>\n",
       "      <td>2010-12</td>\n",
       "      <td>2010-12-02 15:27:00</td>\n",
       "      <td>2011-12-10 12:50:00</td>\n",
       "    </tr>\n",
       "    <tr>\n",
       "      <th>163173</th>\n",
       "      <td>536365</td>\n",
       "      <td>84406B</td>\n",
       "      <td>CREAM CUPID HEARTS COAT HANGER</td>\n",
       "      <td>8</td>\n",
       "      <td>2010-12-01 08:26:00</td>\n",
       "      <td>2.75</td>\n",
       "      <td>17850.0</td>\n",
       "      <td>United Kingdom</td>\n",
       "      <td>2010-12</td>\n",
       "      <td>2010-12</td>\n",
       "      <td>2010-12-02 15:27:00</td>\n",
       "      <td>2011-12-10 12:50:00</td>\n",
       "    </tr>\n",
       "  </tbody>\n",
       "</table>\n",
       "</div>"
      ],
      "text/plain": [
       "       InvoiceNo StockCode                          Description  Quantity  \\\n",
       "99201     536365    84029G  KNITTED UNION FLAG HOT WATER BOTTLE         6   \n",
       "81407     536365     71053                  WHITE METAL LANTERN         6   \n",
       "86726     536365    85123A   WHITE HANGING HEART T-LIGHT HOLDER         6   \n",
       "267050    536365     22752         SET 7 BABUSHKA NESTING BOXES         2   \n",
       "163173    536365    84406B       CREAM CUPID HEARTS COAT HANGER         8   \n",
       "\n",
       "               InvoiceDate  UnitPrice  CustomerID         Country Order_Month  \\\n",
       "99201  2010-12-01 08:26:00       3.39     17850.0  United Kingdom     2010-12   \n",
       "81407  2010-12-01 08:26:00       3.39     17850.0  United Kingdom     2010-12   \n",
       "86726  2010-12-01 08:26:00       2.55     17850.0  United Kingdom     2010-12   \n",
       "267050 2010-12-01 08:26:00       7.65     17850.0  United Kingdom     2010-12   \n",
       "163173 2010-12-01 08:26:00       2.75     17850.0  United Kingdom     2010-12   \n",
       "\n",
       "       Cohort_Month Customer_last_order_date      Reference_date  \n",
       "99201       2010-12      2010-12-02 15:27:00 2011-12-10 12:50:00  \n",
       "81407       2010-12      2010-12-02 15:27:00 2011-12-10 12:50:00  \n",
       "86726       2010-12      2010-12-02 15:27:00 2011-12-10 12:50:00  \n",
       "267050      2010-12      2010-12-02 15:27:00 2011-12-10 12:50:00  \n",
       "163173      2010-12      2010-12-02 15:27:00 2011-12-10 12:50:00  "
      ]
     },
     "execution_count": 59,
     "metadata": {},
     "output_type": "execute_result"
    }
   ],
   "source": [
    "train_data.head()"
   ]
  },
  {
   "cell_type": "code",
   "execution_count": 60,
   "id": "176cd778",
   "metadata": {},
   "outputs": [],
   "source": [
    "train_data['Days_till_last_ordered']=(train_data['Reference_date']-train_data['Customer_last_order_date']).dt.days"
   ]
  },
  {
   "cell_type": "code",
   "execution_count": 61,
   "id": "750bff8b",
   "metadata": {},
   "outputs": [
    {
     "data": {
      "text/html": [
       "<div>\n",
       "<style scoped>\n",
       "    .dataframe tbody tr th:only-of-type {\n",
       "        vertical-align: middle;\n",
       "    }\n",
       "\n",
       "    .dataframe tbody tr th {\n",
       "        vertical-align: top;\n",
       "    }\n",
       "\n",
       "    .dataframe thead th {\n",
       "        text-align: right;\n",
       "    }\n",
       "</style>\n",
       "<table border=\"1\" class=\"dataframe\">\n",
       "  <thead>\n",
       "    <tr style=\"text-align: right;\">\n",
       "      <th></th>\n",
       "      <th>InvoiceNo</th>\n",
       "      <th>StockCode</th>\n",
       "      <th>Description</th>\n",
       "      <th>Quantity</th>\n",
       "      <th>InvoiceDate</th>\n",
       "      <th>UnitPrice</th>\n",
       "      <th>CustomerID</th>\n",
       "      <th>Country</th>\n",
       "      <th>Order_Month</th>\n",
       "      <th>Cohort_Month</th>\n",
       "      <th>Customer_last_order_date</th>\n",
       "      <th>Reference_date</th>\n",
       "      <th>Days_till_last_ordered</th>\n",
       "    </tr>\n",
       "  </thead>\n",
       "  <tbody>\n",
       "    <tr>\n",
       "      <th>99201</th>\n",
       "      <td>536365</td>\n",
       "      <td>84029G</td>\n",
       "      <td>KNITTED UNION FLAG HOT WATER BOTTLE</td>\n",
       "      <td>6</td>\n",
       "      <td>2010-12-01 08:26:00</td>\n",
       "      <td>3.39</td>\n",
       "      <td>17850.0</td>\n",
       "      <td>United Kingdom</td>\n",
       "      <td>2010-12</td>\n",
       "      <td>2010-12</td>\n",
       "      <td>2010-12-02 15:27:00</td>\n",
       "      <td>2011-12-10 12:50:00</td>\n",
       "      <td>372</td>\n",
       "    </tr>\n",
       "    <tr>\n",
       "      <th>81407</th>\n",
       "      <td>536365</td>\n",
       "      <td>71053</td>\n",
       "      <td>WHITE METAL LANTERN</td>\n",
       "      <td>6</td>\n",
       "      <td>2010-12-01 08:26:00</td>\n",
       "      <td>3.39</td>\n",
       "      <td>17850.0</td>\n",
       "      <td>United Kingdom</td>\n",
       "      <td>2010-12</td>\n",
       "      <td>2010-12</td>\n",
       "      <td>2010-12-02 15:27:00</td>\n",
       "      <td>2011-12-10 12:50:00</td>\n",
       "      <td>372</td>\n",
       "    </tr>\n",
       "    <tr>\n",
       "      <th>86726</th>\n",
       "      <td>536365</td>\n",
       "      <td>85123A</td>\n",
       "      <td>WHITE HANGING HEART T-LIGHT HOLDER</td>\n",
       "      <td>6</td>\n",
       "      <td>2010-12-01 08:26:00</td>\n",
       "      <td>2.55</td>\n",
       "      <td>17850.0</td>\n",
       "      <td>United Kingdom</td>\n",
       "      <td>2010-12</td>\n",
       "      <td>2010-12</td>\n",
       "      <td>2010-12-02 15:27:00</td>\n",
       "      <td>2011-12-10 12:50:00</td>\n",
       "      <td>372</td>\n",
       "    </tr>\n",
       "    <tr>\n",
       "      <th>267050</th>\n",
       "      <td>536365</td>\n",
       "      <td>22752</td>\n",
       "      <td>SET 7 BABUSHKA NESTING BOXES</td>\n",
       "      <td>2</td>\n",
       "      <td>2010-12-01 08:26:00</td>\n",
       "      <td>7.65</td>\n",
       "      <td>17850.0</td>\n",
       "      <td>United Kingdom</td>\n",
       "      <td>2010-12</td>\n",
       "      <td>2010-12</td>\n",
       "      <td>2010-12-02 15:27:00</td>\n",
       "      <td>2011-12-10 12:50:00</td>\n",
       "      <td>372</td>\n",
       "    </tr>\n",
       "    <tr>\n",
       "      <th>163173</th>\n",
       "      <td>536365</td>\n",
       "      <td>84406B</td>\n",
       "      <td>CREAM CUPID HEARTS COAT HANGER</td>\n",
       "      <td>8</td>\n",
       "      <td>2010-12-01 08:26:00</td>\n",
       "      <td>2.75</td>\n",
       "      <td>17850.0</td>\n",
       "      <td>United Kingdom</td>\n",
       "      <td>2010-12</td>\n",
       "      <td>2010-12</td>\n",
       "      <td>2010-12-02 15:27:00</td>\n",
       "      <td>2011-12-10 12:50:00</td>\n",
       "      <td>372</td>\n",
       "    </tr>\n",
       "  </tbody>\n",
       "</table>\n",
       "</div>"
      ],
      "text/plain": [
       "       InvoiceNo StockCode                          Description  Quantity  \\\n",
       "99201     536365    84029G  KNITTED UNION FLAG HOT WATER BOTTLE         6   \n",
       "81407     536365     71053                  WHITE METAL LANTERN         6   \n",
       "86726     536365    85123A   WHITE HANGING HEART T-LIGHT HOLDER         6   \n",
       "267050    536365     22752         SET 7 BABUSHKA NESTING BOXES         2   \n",
       "163173    536365    84406B       CREAM CUPID HEARTS COAT HANGER         8   \n",
       "\n",
       "               InvoiceDate  UnitPrice  CustomerID         Country Order_Month  \\\n",
       "99201  2010-12-01 08:26:00       3.39     17850.0  United Kingdom     2010-12   \n",
       "81407  2010-12-01 08:26:00       3.39     17850.0  United Kingdom     2010-12   \n",
       "86726  2010-12-01 08:26:00       2.55     17850.0  United Kingdom     2010-12   \n",
       "267050 2010-12-01 08:26:00       7.65     17850.0  United Kingdom     2010-12   \n",
       "163173 2010-12-01 08:26:00       2.75     17850.0  United Kingdom     2010-12   \n",
       "\n",
       "       Cohort_Month Customer_last_order_date      Reference_date  \\\n",
       "99201       2010-12      2010-12-02 15:27:00 2011-12-10 12:50:00   \n",
       "81407       2010-12      2010-12-02 15:27:00 2011-12-10 12:50:00   \n",
       "86726       2010-12      2010-12-02 15:27:00 2011-12-10 12:50:00   \n",
       "267050      2010-12      2010-12-02 15:27:00 2011-12-10 12:50:00   \n",
       "163173      2010-12      2010-12-02 15:27:00 2011-12-10 12:50:00   \n",
       "\n",
       "        Days_till_last_ordered  \n",
       "99201                      372  \n",
       "81407                      372  \n",
       "86726                      372  \n",
       "267050                     372  \n",
       "163173                     372  "
      ]
     },
     "execution_count": 61,
     "metadata": {},
     "output_type": "execute_result"
    }
   ],
   "source": [
    "train_data.head()"
   ]
  },
  {
   "cell_type": "code",
   "execution_count": 62,
   "id": "1696b402",
   "metadata": {},
   "outputs": [],
   "source": [
    "recency_df=train_data.groupby('CustomerID').min()['Days_till_last_ordered']"
   ]
  },
  {
   "cell_type": "code",
   "execution_count": 63,
   "id": "49e2dd92",
   "metadata": {},
   "outputs": [],
   "source": [
    "recency_df=recency_df.to_frame().reset_index()"
   ]
  },
  {
   "cell_type": "code",
   "execution_count": 64,
   "id": "4cb09f10",
   "metadata": {},
   "outputs": [
    {
     "data": {
      "text/html": [
       "<div>\n",
       "<style scoped>\n",
       "    .dataframe tbody tr th:only-of-type {\n",
       "        vertical-align: middle;\n",
       "    }\n",
       "\n",
       "    .dataframe tbody tr th {\n",
       "        vertical-align: top;\n",
       "    }\n",
       "\n",
       "    .dataframe thead th {\n",
       "        text-align: right;\n",
       "    }\n",
       "</style>\n",
       "<table border=\"1\" class=\"dataframe\">\n",
       "  <thead>\n",
       "    <tr style=\"text-align: right;\">\n",
       "      <th></th>\n",
       "      <th>CustomerID</th>\n",
       "      <th>Days_till_last_ordered</th>\n",
       "    </tr>\n",
       "  </thead>\n",
       "  <tbody>\n",
       "    <tr>\n",
       "      <th>0</th>\n",
       "      <td>12346.0</td>\n",
       "      <td>326</td>\n",
       "    </tr>\n",
       "    <tr>\n",
       "      <th>1</th>\n",
       "      <td>12347.0</td>\n",
       "      <td>2</td>\n",
       "    </tr>\n",
       "    <tr>\n",
       "      <th>2</th>\n",
       "      <td>12348.0</td>\n",
       "      <td>75</td>\n",
       "    </tr>\n",
       "    <tr>\n",
       "      <th>3</th>\n",
       "      <td>12349.0</td>\n",
       "      <td>19</td>\n",
       "    </tr>\n",
       "    <tr>\n",
       "      <th>4</th>\n",
       "      <td>12350.0</td>\n",
       "      <td>310</td>\n",
       "    </tr>\n",
       "  </tbody>\n",
       "</table>\n",
       "</div>"
      ],
      "text/plain": [
       "   CustomerID  Days_till_last_ordered\n",
       "0     12346.0                     326\n",
       "1     12347.0                       2\n",
       "2     12348.0                      75\n",
       "3     12349.0                      19\n",
       "4     12350.0                     310"
      ]
     },
     "execution_count": 64,
     "metadata": {},
     "output_type": "execute_result"
    }
   ],
   "source": [
    "recency_df.head()"
   ]
  },
  {
   "cell_type": "code",
   "execution_count": 65,
   "id": "8104d972",
   "metadata": {},
   "outputs": [],
   "source": [
    "# Frequency Analysis"
   ]
  },
  {
   "cell_type": "code",
   "execution_count": 66,
   "id": "d609dcd0",
   "metadata": {},
   "outputs": [],
   "source": [
    "Frequency_df=train_data.groupby('CustomerID').count()['InvoiceNo'].to_frame().reset_index()"
   ]
  },
  {
   "cell_type": "code",
   "execution_count": 67,
   "id": "ce4d1679",
   "metadata": {},
   "outputs": [
    {
     "data": {
      "text/html": [
       "<div>\n",
       "<style scoped>\n",
       "    .dataframe tbody tr th:only-of-type {\n",
       "        vertical-align: middle;\n",
       "    }\n",
       "\n",
       "    .dataframe tbody tr th {\n",
       "        vertical-align: top;\n",
       "    }\n",
       "\n",
       "    .dataframe thead th {\n",
       "        text-align: right;\n",
       "    }\n",
       "</style>\n",
       "<table border=\"1\" class=\"dataframe\">\n",
       "  <thead>\n",
       "    <tr style=\"text-align: right;\">\n",
       "      <th></th>\n",
       "      <th>CustomerID</th>\n",
       "      <th>InvoiceNo</th>\n",
       "    </tr>\n",
       "  </thead>\n",
       "  <tbody>\n",
       "    <tr>\n",
       "      <th>0</th>\n",
       "      <td>12346.0</td>\n",
       "      <td>1</td>\n",
       "    </tr>\n",
       "    <tr>\n",
       "      <th>1</th>\n",
       "      <td>12347.0</td>\n",
       "      <td>132</td>\n",
       "    </tr>\n",
       "    <tr>\n",
       "      <th>2</th>\n",
       "      <td>12348.0</td>\n",
       "      <td>20</td>\n",
       "    </tr>\n",
       "    <tr>\n",
       "      <th>3</th>\n",
       "      <td>12349.0</td>\n",
       "      <td>50</td>\n",
       "    </tr>\n",
       "    <tr>\n",
       "      <th>4</th>\n",
       "      <td>12350.0</td>\n",
       "      <td>11</td>\n",
       "    </tr>\n",
       "  </tbody>\n",
       "</table>\n",
       "</div>"
      ],
      "text/plain": [
       "   CustomerID  InvoiceNo\n",
       "0     12346.0          1\n",
       "1     12347.0        132\n",
       "2     12348.0         20\n",
       "3     12349.0         50\n",
       "4     12350.0         11"
      ]
     },
     "execution_count": 67,
     "metadata": {},
     "output_type": "execute_result"
    }
   ],
   "source": [
    "Frequency_df.head()"
   ]
  },
  {
   "cell_type": "code",
   "execution_count": 68,
   "id": "5b88c699",
   "metadata": {},
   "outputs": [],
   "source": [
    "#Monetary Analysis"
   ]
  },
  {
   "cell_type": "code",
   "execution_count": 69,
   "id": "a320a544",
   "metadata": {},
   "outputs": [],
   "source": [
    "train_data['Total_Amount']=train_data['Quantity']*train_data['UnitPrice']"
   ]
  },
  {
   "cell_type": "code",
   "execution_count": 70,
   "id": "099fd8fe",
   "metadata": {},
   "outputs": [
    {
     "data": {
      "text/html": [
       "<div>\n",
       "<style scoped>\n",
       "    .dataframe tbody tr th:only-of-type {\n",
       "        vertical-align: middle;\n",
       "    }\n",
       "\n",
       "    .dataframe tbody tr th {\n",
       "        vertical-align: top;\n",
       "    }\n",
       "\n",
       "    .dataframe thead th {\n",
       "        text-align: right;\n",
       "    }\n",
       "</style>\n",
       "<table border=\"1\" class=\"dataframe\">\n",
       "  <thead>\n",
       "    <tr style=\"text-align: right;\">\n",
       "      <th></th>\n",
       "      <th>InvoiceNo</th>\n",
       "      <th>StockCode</th>\n",
       "      <th>Description</th>\n",
       "      <th>Quantity</th>\n",
       "      <th>InvoiceDate</th>\n",
       "      <th>UnitPrice</th>\n",
       "      <th>CustomerID</th>\n",
       "      <th>Country</th>\n",
       "      <th>Order_Month</th>\n",
       "      <th>Cohort_Month</th>\n",
       "      <th>Customer_last_order_date</th>\n",
       "      <th>Reference_date</th>\n",
       "      <th>Days_till_last_ordered</th>\n",
       "      <th>Total_Amount</th>\n",
       "    </tr>\n",
       "  </thead>\n",
       "  <tbody>\n",
       "    <tr>\n",
       "      <th>99201</th>\n",
       "      <td>536365</td>\n",
       "      <td>84029G</td>\n",
       "      <td>KNITTED UNION FLAG HOT WATER BOTTLE</td>\n",
       "      <td>6</td>\n",
       "      <td>2010-12-01 08:26:00</td>\n",
       "      <td>3.39</td>\n",
       "      <td>17850.0</td>\n",
       "      <td>United Kingdom</td>\n",
       "      <td>2010-12</td>\n",
       "      <td>2010-12</td>\n",
       "      <td>2010-12-02 15:27:00</td>\n",
       "      <td>2011-12-10 12:50:00</td>\n",
       "      <td>372</td>\n",
       "      <td>20.34</td>\n",
       "    </tr>\n",
       "    <tr>\n",
       "      <th>81407</th>\n",
       "      <td>536365</td>\n",
       "      <td>71053</td>\n",
       "      <td>WHITE METAL LANTERN</td>\n",
       "      <td>6</td>\n",
       "      <td>2010-12-01 08:26:00</td>\n",
       "      <td>3.39</td>\n",
       "      <td>17850.0</td>\n",
       "      <td>United Kingdom</td>\n",
       "      <td>2010-12</td>\n",
       "      <td>2010-12</td>\n",
       "      <td>2010-12-02 15:27:00</td>\n",
       "      <td>2011-12-10 12:50:00</td>\n",
       "      <td>372</td>\n",
       "      <td>20.34</td>\n",
       "    </tr>\n",
       "    <tr>\n",
       "      <th>86726</th>\n",
       "      <td>536365</td>\n",
       "      <td>85123A</td>\n",
       "      <td>WHITE HANGING HEART T-LIGHT HOLDER</td>\n",
       "      <td>6</td>\n",
       "      <td>2010-12-01 08:26:00</td>\n",
       "      <td>2.55</td>\n",
       "      <td>17850.0</td>\n",
       "      <td>United Kingdom</td>\n",
       "      <td>2010-12</td>\n",
       "      <td>2010-12</td>\n",
       "      <td>2010-12-02 15:27:00</td>\n",
       "      <td>2011-12-10 12:50:00</td>\n",
       "      <td>372</td>\n",
       "      <td>15.30</td>\n",
       "    </tr>\n",
       "    <tr>\n",
       "      <th>267050</th>\n",
       "      <td>536365</td>\n",
       "      <td>22752</td>\n",
       "      <td>SET 7 BABUSHKA NESTING BOXES</td>\n",
       "      <td>2</td>\n",
       "      <td>2010-12-01 08:26:00</td>\n",
       "      <td>7.65</td>\n",
       "      <td>17850.0</td>\n",
       "      <td>United Kingdom</td>\n",
       "      <td>2010-12</td>\n",
       "      <td>2010-12</td>\n",
       "      <td>2010-12-02 15:27:00</td>\n",
       "      <td>2011-12-10 12:50:00</td>\n",
       "      <td>372</td>\n",
       "      <td>15.30</td>\n",
       "    </tr>\n",
       "    <tr>\n",
       "      <th>163173</th>\n",
       "      <td>536365</td>\n",
       "      <td>84406B</td>\n",
       "      <td>CREAM CUPID HEARTS COAT HANGER</td>\n",
       "      <td>8</td>\n",
       "      <td>2010-12-01 08:26:00</td>\n",
       "      <td>2.75</td>\n",
       "      <td>17850.0</td>\n",
       "      <td>United Kingdom</td>\n",
       "      <td>2010-12</td>\n",
       "      <td>2010-12</td>\n",
       "      <td>2010-12-02 15:27:00</td>\n",
       "      <td>2011-12-10 12:50:00</td>\n",
       "      <td>372</td>\n",
       "      <td>22.00</td>\n",
       "    </tr>\n",
       "  </tbody>\n",
       "</table>\n",
       "</div>"
      ],
      "text/plain": [
       "       InvoiceNo StockCode                          Description  Quantity  \\\n",
       "99201     536365    84029G  KNITTED UNION FLAG HOT WATER BOTTLE         6   \n",
       "81407     536365     71053                  WHITE METAL LANTERN         6   \n",
       "86726     536365    85123A   WHITE HANGING HEART T-LIGHT HOLDER         6   \n",
       "267050    536365     22752         SET 7 BABUSHKA NESTING BOXES         2   \n",
       "163173    536365    84406B       CREAM CUPID HEARTS COAT HANGER         8   \n",
       "\n",
       "               InvoiceDate  UnitPrice  CustomerID         Country Order_Month  \\\n",
       "99201  2010-12-01 08:26:00       3.39     17850.0  United Kingdom     2010-12   \n",
       "81407  2010-12-01 08:26:00       3.39     17850.0  United Kingdom     2010-12   \n",
       "86726  2010-12-01 08:26:00       2.55     17850.0  United Kingdom     2010-12   \n",
       "267050 2010-12-01 08:26:00       7.65     17850.0  United Kingdom     2010-12   \n",
       "163173 2010-12-01 08:26:00       2.75     17850.0  United Kingdom     2010-12   \n",
       "\n",
       "       Cohort_Month Customer_last_order_date      Reference_date  \\\n",
       "99201       2010-12      2010-12-02 15:27:00 2011-12-10 12:50:00   \n",
       "81407       2010-12      2010-12-02 15:27:00 2011-12-10 12:50:00   \n",
       "86726       2010-12      2010-12-02 15:27:00 2011-12-10 12:50:00   \n",
       "267050      2010-12      2010-12-02 15:27:00 2011-12-10 12:50:00   \n",
       "163173      2010-12      2010-12-02 15:27:00 2011-12-10 12:50:00   \n",
       "\n",
       "        Days_till_last_ordered  Total_Amount  \n",
       "99201                      372         20.34  \n",
       "81407                      372         20.34  \n",
       "86726                      372         15.30  \n",
       "267050                     372         15.30  \n",
       "163173                     372         22.00  "
      ]
     },
     "execution_count": 70,
     "metadata": {},
     "output_type": "execute_result"
    }
   ],
   "source": [
    "train_data.head()"
   ]
  },
  {
   "cell_type": "code",
   "execution_count": 71,
   "id": "e0924ad1",
   "metadata": {},
   "outputs": [],
   "source": [
    "Monetary_df=train_data.groupby('CustomerID').sum()['Total_Amount'].to_frame().reset_index()"
   ]
  },
  {
   "cell_type": "code",
   "execution_count": 72,
   "id": "04d59a68",
   "metadata": {},
   "outputs": [
    {
     "data": {
      "text/html": [
       "<div>\n",
       "<style scoped>\n",
       "    .dataframe tbody tr th:only-of-type {\n",
       "        vertical-align: middle;\n",
       "    }\n",
       "\n",
       "    .dataframe tbody tr th {\n",
       "        vertical-align: top;\n",
       "    }\n",
       "\n",
       "    .dataframe thead th {\n",
       "        text-align: right;\n",
       "    }\n",
       "</style>\n",
       "<table border=\"1\" class=\"dataframe\">\n",
       "  <thead>\n",
       "    <tr style=\"text-align: right;\">\n",
       "      <th></th>\n",
       "      <th>CustomerID</th>\n",
       "      <th>Total_Amount</th>\n",
       "    </tr>\n",
       "  </thead>\n",
       "  <tbody>\n",
       "    <tr>\n",
       "      <th>0</th>\n",
       "      <td>12346.0</td>\n",
       "      <td>77183.60</td>\n",
       "    </tr>\n",
       "    <tr>\n",
       "      <th>1</th>\n",
       "      <td>12347.0</td>\n",
       "      <td>3124.96</td>\n",
       "    </tr>\n",
       "    <tr>\n",
       "      <th>2</th>\n",
       "      <td>12348.0</td>\n",
       "      <td>1009.88</td>\n",
       "    </tr>\n",
       "    <tr>\n",
       "      <th>3</th>\n",
       "      <td>12349.0</td>\n",
       "      <td>1344.17</td>\n",
       "    </tr>\n",
       "    <tr>\n",
       "      <th>4</th>\n",
       "      <td>12350.0</td>\n",
       "      <td>213.30</td>\n",
       "    </tr>\n",
       "  </tbody>\n",
       "</table>\n",
       "</div>"
      ],
      "text/plain": [
       "   CustomerID  Total_Amount\n",
       "0     12346.0      77183.60\n",
       "1     12347.0       3124.96\n",
       "2     12348.0       1009.88\n",
       "3     12349.0       1344.17\n",
       "4     12350.0        213.30"
      ]
     },
     "execution_count": 72,
     "metadata": {},
     "output_type": "execute_result"
    }
   ],
   "source": [
    "Monetary_df.head()"
   ]
  },
  {
   "cell_type": "code",
   "execution_count": 73,
   "id": "d55168f6",
   "metadata": {},
   "outputs": [],
   "source": [
    "#2. Calculate RFM metrics."
   ]
  },
  {
   "cell_type": "code",
   "execution_count": 74,
   "id": "d626ab8b",
   "metadata": {},
   "outputs": [],
   "source": [
    "RF_DF=pd.merge(recency_df,Frequency_df,on='CustomerID')"
   ]
  },
  {
   "cell_type": "code",
   "execution_count": 75,
   "id": "154e59dc",
   "metadata": {},
   "outputs": [],
   "source": [
    "RFM_df=pd.merge(RF_DF,Monetary_df,on='CustomerID')"
   ]
  },
  {
   "cell_type": "code",
   "execution_count": 76,
   "id": "98d71e18",
   "metadata": {},
   "outputs": [
    {
     "data": {
      "text/html": [
       "<div>\n",
       "<style scoped>\n",
       "    .dataframe tbody tr th:only-of-type {\n",
       "        vertical-align: middle;\n",
       "    }\n",
       "\n",
       "    .dataframe tbody tr th {\n",
       "        vertical-align: top;\n",
       "    }\n",
       "\n",
       "    .dataframe thead th {\n",
       "        text-align: right;\n",
       "    }\n",
       "</style>\n",
       "<table border=\"1\" class=\"dataframe\">\n",
       "  <thead>\n",
       "    <tr style=\"text-align: right;\">\n",
       "      <th></th>\n",
       "      <th>CustomerID</th>\n",
       "      <th>Days_till_last_ordered</th>\n",
       "      <th>InvoiceNo</th>\n",
       "      <th>Total_Amount</th>\n",
       "    </tr>\n",
       "  </thead>\n",
       "  <tbody>\n",
       "    <tr>\n",
       "      <th>0</th>\n",
       "      <td>12346.0</td>\n",
       "      <td>326</td>\n",
       "      <td>1</td>\n",
       "      <td>77183.60</td>\n",
       "    </tr>\n",
       "    <tr>\n",
       "      <th>1</th>\n",
       "      <td>12347.0</td>\n",
       "      <td>2</td>\n",
       "      <td>132</td>\n",
       "      <td>3124.96</td>\n",
       "    </tr>\n",
       "    <tr>\n",
       "      <th>2</th>\n",
       "      <td>12348.0</td>\n",
       "      <td>75</td>\n",
       "      <td>20</td>\n",
       "      <td>1009.88</td>\n",
       "    </tr>\n",
       "    <tr>\n",
       "      <th>3</th>\n",
       "      <td>12349.0</td>\n",
       "      <td>19</td>\n",
       "      <td>50</td>\n",
       "      <td>1344.17</td>\n",
       "    </tr>\n",
       "    <tr>\n",
       "      <th>4</th>\n",
       "      <td>12350.0</td>\n",
       "      <td>310</td>\n",
       "      <td>11</td>\n",
       "      <td>213.30</td>\n",
       "    </tr>\n",
       "  </tbody>\n",
       "</table>\n",
       "</div>"
      ],
      "text/plain": [
       "   CustomerID  Days_till_last_ordered  InvoiceNo  Total_Amount\n",
       "0     12346.0                     326          1      77183.60\n",
       "1     12347.0                       2        132       3124.96\n",
       "2     12348.0                      75         20       1009.88\n",
       "3     12349.0                      19         50       1344.17\n",
       "4     12350.0                     310         11        213.30"
      ]
     },
     "execution_count": 76,
     "metadata": {},
     "output_type": "execute_result"
    }
   ],
   "source": [
    "RFM_df.head()"
   ]
  },
  {
   "cell_type": "code",
   "execution_count": 77,
   "id": "05a20580",
   "metadata": {},
   "outputs": [],
   "source": [
    "#3. Build RFM Segments. Give recency, frequency, and monetary scores individually by dividing them into quartiles.\n",
    "r_labels=range(4,0,-1)\n",
    "f_labels=range(1,5)\n",
    "m_labels=range(1,5)"
   ]
  },
  {
   "cell_type": "code",
   "execution_count": 78,
   "id": "0183f8d0",
   "metadata": {},
   "outputs": [],
   "source": [
    "RFM_df['R']=pd.qcut(RFM_df['Days_till_last_ordered'],q=4,labels=r_labels)"
   ]
  },
  {
   "cell_type": "code",
   "execution_count": 79,
   "id": "5202db11",
   "metadata": {},
   "outputs": [],
   "source": [
    "RFM_df['F']=pd.qcut(RFM_df['InvoiceNo'],q=4,labels=f_labels)"
   ]
  },
  {
   "cell_type": "code",
   "execution_count": 80,
   "id": "ed286595",
   "metadata": {},
   "outputs": [],
   "source": [
    "RFM_df['M']=pd.qcut(RFM_df['Total_Amount'],q=4,labels=m_labels)"
   ]
  },
  {
   "cell_type": "code",
   "execution_count": 81,
   "id": "c8fbfb06",
   "metadata": {},
   "outputs": [
    {
     "data": {
      "text/html": [
       "<div>\n",
       "<style scoped>\n",
       "    .dataframe tbody tr th:only-of-type {\n",
       "        vertical-align: middle;\n",
       "    }\n",
       "\n",
       "    .dataframe tbody tr th {\n",
       "        vertical-align: top;\n",
       "    }\n",
       "\n",
       "    .dataframe thead th {\n",
       "        text-align: right;\n",
       "    }\n",
       "</style>\n",
       "<table border=\"1\" class=\"dataframe\">\n",
       "  <thead>\n",
       "    <tr style=\"text-align: right;\">\n",
       "      <th></th>\n",
       "      <th>CustomerID</th>\n",
       "      <th>Days_till_last_ordered</th>\n",
       "      <th>InvoiceNo</th>\n",
       "      <th>Total_Amount</th>\n",
       "      <th>R</th>\n",
       "      <th>F</th>\n",
       "      <th>M</th>\n",
       "    </tr>\n",
       "  </thead>\n",
       "  <tbody>\n",
       "    <tr>\n",
       "      <th>0</th>\n",
       "      <td>12346.0</td>\n",
       "      <td>326</td>\n",
       "      <td>1</td>\n",
       "      <td>77183.60</td>\n",
       "      <td>1</td>\n",
       "      <td>1</td>\n",
       "      <td>4</td>\n",
       "    </tr>\n",
       "    <tr>\n",
       "      <th>1</th>\n",
       "      <td>12347.0</td>\n",
       "      <td>2</td>\n",
       "      <td>132</td>\n",
       "      <td>3124.96</td>\n",
       "      <td>4</td>\n",
       "      <td>4</td>\n",
       "      <td>4</td>\n",
       "    </tr>\n",
       "    <tr>\n",
       "      <th>2</th>\n",
       "      <td>12348.0</td>\n",
       "      <td>75</td>\n",
       "      <td>20</td>\n",
       "      <td>1009.88</td>\n",
       "      <td>2</td>\n",
       "      <td>2</td>\n",
       "      <td>3</td>\n",
       "    </tr>\n",
       "    <tr>\n",
       "      <th>3</th>\n",
       "      <td>12349.0</td>\n",
       "      <td>19</td>\n",
       "      <td>50</td>\n",
       "      <td>1344.17</td>\n",
       "      <td>3</td>\n",
       "      <td>3</td>\n",
       "      <td>4</td>\n",
       "    </tr>\n",
       "    <tr>\n",
       "      <th>4</th>\n",
       "      <td>12350.0</td>\n",
       "      <td>310</td>\n",
       "      <td>11</td>\n",
       "      <td>213.30</td>\n",
       "      <td>1</td>\n",
       "      <td>1</td>\n",
       "      <td>2</td>\n",
       "    </tr>\n",
       "  </tbody>\n",
       "</table>\n",
       "</div>"
      ],
      "text/plain": [
       "   CustomerID  Days_till_last_ordered  InvoiceNo  Total_Amount  R  F  M\n",
       "0     12346.0                     326          1      77183.60  1  1  4\n",
       "1     12347.0                       2        132       3124.96  4  4  4\n",
       "2     12348.0                      75         20       1009.88  2  2  3\n",
       "3     12349.0                      19         50       1344.17  3  3  4\n",
       "4     12350.0                     310         11        213.30  1  1  2"
      ]
     },
     "execution_count": 81,
     "metadata": {},
     "output_type": "execute_result"
    }
   ],
   "source": [
    "RFM_df.head()"
   ]
  },
  {
   "cell_type": "code",
   "execution_count": 82,
   "id": "51457ae3",
   "metadata": {},
   "outputs": [],
   "source": [
    "#2b1. Combine three ratings to get a RFM segment (as strings).\n",
    "RFM_df['RFM_Segment']=RFM_df['R'].astype(str)+RFM_df['F'].astype(str)+RFM_df['M'].astype(str)"
   ]
  },
  {
   "cell_type": "code",
   "execution_count": 83,
   "id": "9ccf0551",
   "metadata": {},
   "outputs": [
    {
     "data": {
      "text/html": [
       "<div>\n",
       "<style scoped>\n",
       "    .dataframe tbody tr th:only-of-type {\n",
       "        vertical-align: middle;\n",
       "    }\n",
       "\n",
       "    .dataframe tbody tr th {\n",
       "        vertical-align: top;\n",
       "    }\n",
       "\n",
       "    .dataframe thead th {\n",
       "        text-align: right;\n",
       "    }\n",
       "</style>\n",
       "<table border=\"1\" class=\"dataframe\">\n",
       "  <thead>\n",
       "    <tr style=\"text-align: right;\">\n",
       "      <th></th>\n",
       "      <th>CustomerID</th>\n",
       "      <th>Days_till_last_ordered</th>\n",
       "      <th>InvoiceNo</th>\n",
       "      <th>Total_Amount</th>\n",
       "      <th>R</th>\n",
       "      <th>F</th>\n",
       "      <th>M</th>\n",
       "      <th>RFM_Segment</th>\n",
       "    </tr>\n",
       "  </thead>\n",
       "  <tbody>\n",
       "    <tr>\n",
       "      <th>0</th>\n",
       "      <td>12346.0</td>\n",
       "      <td>326</td>\n",
       "      <td>1</td>\n",
       "      <td>77183.60</td>\n",
       "      <td>1</td>\n",
       "      <td>1</td>\n",
       "      <td>4</td>\n",
       "      <td>114</td>\n",
       "    </tr>\n",
       "    <tr>\n",
       "      <th>1</th>\n",
       "      <td>12347.0</td>\n",
       "      <td>2</td>\n",
       "      <td>132</td>\n",
       "      <td>3124.96</td>\n",
       "      <td>4</td>\n",
       "      <td>4</td>\n",
       "      <td>4</td>\n",
       "      <td>444</td>\n",
       "    </tr>\n",
       "    <tr>\n",
       "      <th>2</th>\n",
       "      <td>12348.0</td>\n",
       "      <td>75</td>\n",
       "      <td>20</td>\n",
       "      <td>1009.88</td>\n",
       "      <td>2</td>\n",
       "      <td>2</td>\n",
       "      <td>3</td>\n",
       "      <td>223</td>\n",
       "    </tr>\n",
       "    <tr>\n",
       "      <th>3</th>\n",
       "      <td>12349.0</td>\n",
       "      <td>19</td>\n",
       "      <td>50</td>\n",
       "      <td>1344.17</td>\n",
       "      <td>3</td>\n",
       "      <td>3</td>\n",
       "      <td>4</td>\n",
       "      <td>334</td>\n",
       "    </tr>\n",
       "    <tr>\n",
       "      <th>4</th>\n",
       "      <td>12350.0</td>\n",
       "      <td>310</td>\n",
       "      <td>11</td>\n",
       "      <td>213.30</td>\n",
       "      <td>1</td>\n",
       "      <td>1</td>\n",
       "      <td>2</td>\n",
       "      <td>112</td>\n",
       "    </tr>\n",
       "  </tbody>\n",
       "</table>\n",
       "</div>"
      ],
      "text/plain": [
       "   CustomerID  Days_till_last_ordered  InvoiceNo  Total_Amount  R  F  M  \\\n",
       "0     12346.0                     326          1      77183.60  1  1  4   \n",
       "1     12347.0                       2        132       3124.96  4  4  4   \n",
       "2     12348.0                      75         20       1009.88  2  2  3   \n",
       "3     12349.0                      19         50       1344.17  3  3  4   \n",
       "4     12350.0                     310         11        213.30  1  1  2   \n",
       "\n",
       "  RFM_Segment  \n",
       "0         114  \n",
       "1         444  \n",
       "2         223  \n",
       "3         334  \n",
       "4         112  "
      ]
     },
     "execution_count": 83,
     "metadata": {},
     "output_type": "execute_result"
    }
   ],
   "source": [
    "RFM_df.head()"
   ]
  },
  {
   "cell_type": "code",
   "execution_count": 84,
   "id": "d8bc8bde",
   "metadata": {},
   "outputs": [],
   "source": [
    "#2b2. Get the RFM score by adding up the three ratings.\n",
    "RFM_df['RFM_Score']=RFM_df['R'].astype(int)+RFM_df['F'].astype(int)+RFM_df['M'].astype(int)"
   ]
  },
  {
   "cell_type": "code",
   "execution_count": 85,
   "id": "a8ca7acd",
   "metadata": {},
   "outputs": [],
   "source": [
    "RFM_df.rename(columns={'Days_till_last_ordered':'Recency','InvoiceNo':'Frequency','Total_Amount':'Monetary'},inplace=True)"
   ]
  },
  {
   "cell_type": "code",
   "execution_count": 86,
   "id": "98a44107",
   "metadata": {},
   "outputs": [
    {
     "data": {
      "text/html": [
       "<div>\n",
       "<style scoped>\n",
       "    .dataframe tbody tr th:only-of-type {\n",
       "        vertical-align: middle;\n",
       "    }\n",
       "\n",
       "    .dataframe tbody tr th {\n",
       "        vertical-align: top;\n",
       "    }\n",
       "\n",
       "    .dataframe thead th {\n",
       "        text-align: right;\n",
       "    }\n",
       "</style>\n",
       "<table border=\"1\" class=\"dataframe\">\n",
       "  <thead>\n",
       "    <tr style=\"text-align: right;\">\n",
       "      <th></th>\n",
       "      <th>CustomerID</th>\n",
       "      <th>Recency</th>\n",
       "      <th>Frequency</th>\n",
       "      <th>Monetary</th>\n",
       "      <th>R</th>\n",
       "      <th>F</th>\n",
       "      <th>M</th>\n",
       "      <th>RFM_Segment</th>\n",
       "      <th>RFM_Score</th>\n",
       "    </tr>\n",
       "  </thead>\n",
       "  <tbody>\n",
       "    <tr>\n",
       "      <th>0</th>\n",
       "      <td>12346.0</td>\n",
       "      <td>326</td>\n",
       "      <td>1</td>\n",
       "      <td>77183.60</td>\n",
       "      <td>1</td>\n",
       "      <td>1</td>\n",
       "      <td>4</td>\n",
       "      <td>114</td>\n",
       "      <td>6</td>\n",
       "    </tr>\n",
       "    <tr>\n",
       "      <th>1</th>\n",
       "      <td>12347.0</td>\n",
       "      <td>2</td>\n",
       "      <td>132</td>\n",
       "      <td>3124.96</td>\n",
       "      <td>4</td>\n",
       "      <td>4</td>\n",
       "      <td>4</td>\n",
       "      <td>444</td>\n",
       "      <td>12</td>\n",
       "    </tr>\n",
       "    <tr>\n",
       "      <th>2</th>\n",
       "      <td>12348.0</td>\n",
       "      <td>75</td>\n",
       "      <td>20</td>\n",
       "      <td>1009.88</td>\n",
       "      <td>2</td>\n",
       "      <td>2</td>\n",
       "      <td>3</td>\n",
       "      <td>223</td>\n",
       "      <td>7</td>\n",
       "    </tr>\n",
       "    <tr>\n",
       "      <th>3</th>\n",
       "      <td>12349.0</td>\n",
       "      <td>19</td>\n",
       "      <td>50</td>\n",
       "      <td>1344.17</td>\n",
       "      <td>3</td>\n",
       "      <td>3</td>\n",
       "      <td>4</td>\n",
       "      <td>334</td>\n",
       "      <td>10</td>\n",
       "    </tr>\n",
       "    <tr>\n",
       "      <th>4</th>\n",
       "      <td>12350.0</td>\n",
       "      <td>310</td>\n",
       "      <td>11</td>\n",
       "      <td>213.30</td>\n",
       "      <td>1</td>\n",
       "      <td>1</td>\n",
       "      <td>2</td>\n",
       "      <td>112</td>\n",
       "      <td>4</td>\n",
       "    </tr>\n",
       "  </tbody>\n",
       "</table>\n",
       "</div>"
      ],
      "text/plain": [
       "   CustomerID  Recency  Frequency  Monetary  R  F  M RFM_Segment  RFM_Score\n",
       "0     12346.0      326          1  77183.60  1  1  4         114          6\n",
       "1     12347.0        2        132   3124.96  4  4  4         444         12\n",
       "2     12348.0       75         20   1009.88  2  2  3         223          7\n",
       "3     12349.0       19         50   1344.17  3  3  4         334         10\n",
       "4     12350.0      310         11    213.30  1  1  2         112          4"
      ]
     },
     "execution_count": 86,
     "metadata": {},
     "output_type": "execute_result"
    }
   ],
   "source": [
    "RFM_df.head()"
   ]
  },
  {
   "cell_type": "code",
   "execution_count": 87,
   "id": "70e90a18",
   "metadata": {},
   "outputs": [
    {
     "data": {
      "text/html": [
       "<div>\n",
       "<style scoped>\n",
       "    .dataframe tbody tr th:only-of-type {\n",
       "        vertical-align: middle;\n",
       "    }\n",
       "\n",
       "    .dataframe tbody tr th {\n",
       "        vertical-align: top;\n",
       "    }\n",
       "\n",
       "    .dataframe thead tr th {\n",
       "        text-align: left;\n",
       "    }\n",
       "\n",
       "    .dataframe thead tr:last-of-type th {\n",
       "        text-align: right;\n",
       "    }\n",
       "</style>\n",
       "<table border=\"1\" class=\"dataframe\">\n",
       "  <thead>\n",
       "    <tr>\n",
       "      <th></th>\n",
       "      <th>Recency</th>\n",
       "      <th>Frequency</th>\n",
       "      <th colspan=\"2\" halign=\"left\">Monetary</th>\n",
       "    </tr>\n",
       "    <tr>\n",
       "      <th></th>\n",
       "      <th>mean</th>\n",
       "      <th>mean</th>\n",
       "      <th>mean</th>\n",
       "      <th>count</th>\n",
       "    </tr>\n",
       "    <tr>\n",
       "      <th>RFM_Score</th>\n",
       "      <th></th>\n",
       "      <th></th>\n",
       "      <th></th>\n",
       "      <th></th>\n",
       "    </tr>\n",
       "  </thead>\n",
       "  <tbody>\n",
       "    <tr>\n",
       "      <th>3</th>\n",
       "      <td>260.409794</td>\n",
       "      <td>5.912371</td>\n",
       "      <td>111.192423</td>\n",
       "      <td>388</td>\n",
       "    </tr>\n",
       "    <tr>\n",
       "      <th>4</th>\n",
       "      <td>178.686076</td>\n",
       "      <td>9.924051</td>\n",
       "      <td>170.063696</td>\n",
       "      <td>395</td>\n",
       "    </tr>\n",
       "    <tr>\n",
       "      <th>5</th>\n",
       "      <td>146.546559</td>\n",
       "      <td>14.228745</td>\n",
       "      <td>249.977976</td>\n",
       "      <td>494</td>\n",
       "    </tr>\n",
       "    <tr>\n",
       "      <th>6</th>\n",
       "      <td>102.252174</td>\n",
       "      <td>19.986957</td>\n",
       "      <td>675.426500</td>\n",
       "      <td>460</td>\n",
       "    </tr>\n",
       "    <tr>\n",
       "      <th>7</th>\n",
       "      <td>82.850780</td>\n",
       "      <td>27.685969</td>\n",
       "      <td>532.346793</td>\n",
       "      <td>449</td>\n",
       "    </tr>\n",
       "    <tr>\n",
       "      <th>8</th>\n",
       "      <td>61.367983</td>\n",
       "      <td>39.486486</td>\n",
       "      <td>689.861809</td>\n",
       "      <td>481</td>\n",
       "    </tr>\n",
       "    <tr>\n",
       "      <th>9</th>\n",
       "      <td>47.168734</td>\n",
       "      <td>55.491315</td>\n",
       "      <td>1430.462660</td>\n",
       "      <td>403</td>\n",
       "    </tr>\n",
       "    <tr>\n",
       "      <th>10</th>\n",
       "      <td>32.310023</td>\n",
       "      <td>78.925408</td>\n",
       "      <td>1437.528578</td>\n",
       "      <td>429</td>\n",
       "    </tr>\n",
       "    <tr>\n",
       "      <th>11</th>\n",
       "      <td>21.171123</td>\n",
       "      <td>134.026738</td>\n",
       "      <td>2907.198422</td>\n",
       "      <td>374</td>\n",
       "    </tr>\n",
       "    <tr>\n",
       "      <th>12</th>\n",
       "      <td>7.314732</td>\n",
       "      <td>258.955357</td>\n",
       "      <td>6454.381228</td>\n",
       "      <td>448</td>\n",
       "    </tr>\n",
       "  </tbody>\n",
       "</table>\n",
       "</div>"
      ],
      "text/plain": [
       "              Recency   Frequency     Monetary      \n",
       "                 mean        mean         mean count\n",
       "RFM_Score                                           \n",
       "3          260.409794    5.912371   111.192423   388\n",
       "4          178.686076    9.924051   170.063696   395\n",
       "5          146.546559   14.228745   249.977976   494\n",
       "6          102.252174   19.986957   675.426500   460\n",
       "7           82.850780   27.685969   532.346793   449\n",
       "8           61.367983   39.486486   689.861809   481\n",
       "9           47.168734   55.491315  1430.462660   403\n",
       "10          32.310023   78.925408  1437.528578   429\n",
       "11          21.171123  134.026738  2907.198422   374\n",
       "12           7.314732  258.955357  6454.381228   448"
      ]
     },
     "execution_count": 87,
     "metadata": {},
     "output_type": "execute_result"
    }
   ],
   "source": [
    "RFM_df.groupby('RFM_Score').agg({'Recency':'mean','Frequency':'mean','Monetary':['mean','count']})"
   ]
  },
  {
   "cell_type": "code",
   "execution_count": 88,
   "id": "3070cd1d",
   "metadata": {},
   "outputs": [],
   "source": [
    "#2b3. Analyze the RFM segments by summarizing them and comment on the findings.\n",
    "def Customer_Segment(RFM_df):\n",
    "    if RFM_df['RFM_Score']>9:\n",
    "        return 'Gold'\n",
    "    elif (RFM_df['RFM_Score']<=9) and (RFM_df['RFM_Score']>=5):\n",
    "        return 'Silver'\n",
    "    else:\n",
    "        return 'Bronze'"
   ]
  },
  {
   "cell_type": "code",
   "execution_count": 89,
   "id": "27dc3ff0",
   "metadata": {},
   "outputs": [],
   "source": [
    "RFM_df['Customer_Segment']=RFM_df.apply(Customer_Segment,axis=1)"
   ]
  },
  {
   "cell_type": "code",
   "execution_count": 90,
   "id": "8397a25f",
   "metadata": {},
   "outputs": [
    {
     "data": {
      "text/html": [
       "<div>\n",
       "<style scoped>\n",
       "    .dataframe tbody tr th:only-of-type {\n",
       "        vertical-align: middle;\n",
       "    }\n",
       "\n",
       "    .dataframe tbody tr th {\n",
       "        vertical-align: top;\n",
       "    }\n",
       "\n",
       "    .dataframe thead th {\n",
       "        text-align: right;\n",
       "    }\n",
       "</style>\n",
       "<table border=\"1\" class=\"dataframe\">\n",
       "  <thead>\n",
       "    <tr style=\"text-align: right;\">\n",
       "      <th></th>\n",
       "      <th>CustomerID</th>\n",
       "      <th>Recency</th>\n",
       "      <th>Frequency</th>\n",
       "      <th>Monetary</th>\n",
       "      <th>R</th>\n",
       "      <th>F</th>\n",
       "      <th>M</th>\n",
       "      <th>RFM_Segment</th>\n",
       "      <th>RFM_Score</th>\n",
       "      <th>Customer_Segment</th>\n",
       "    </tr>\n",
       "  </thead>\n",
       "  <tbody>\n",
       "    <tr>\n",
       "      <th>0</th>\n",
       "      <td>12346.0</td>\n",
       "      <td>326</td>\n",
       "      <td>1</td>\n",
       "      <td>77183.60</td>\n",
       "      <td>1</td>\n",
       "      <td>1</td>\n",
       "      <td>4</td>\n",
       "      <td>114</td>\n",
       "      <td>6</td>\n",
       "      <td>Silver</td>\n",
       "    </tr>\n",
       "    <tr>\n",
       "      <th>1</th>\n",
       "      <td>12347.0</td>\n",
       "      <td>2</td>\n",
       "      <td>132</td>\n",
       "      <td>3124.96</td>\n",
       "      <td>4</td>\n",
       "      <td>4</td>\n",
       "      <td>4</td>\n",
       "      <td>444</td>\n",
       "      <td>12</td>\n",
       "      <td>Gold</td>\n",
       "    </tr>\n",
       "    <tr>\n",
       "      <th>2</th>\n",
       "      <td>12348.0</td>\n",
       "      <td>75</td>\n",
       "      <td>20</td>\n",
       "      <td>1009.88</td>\n",
       "      <td>2</td>\n",
       "      <td>2</td>\n",
       "      <td>3</td>\n",
       "      <td>223</td>\n",
       "      <td>7</td>\n",
       "      <td>Silver</td>\n",
       "    </tr>\n",
       "    <tr>\n",
       "      <th>3</th>\n",
       "      <td>12349.0</td>\n",
       "      <td>19</td>\n",
       "      <td>50</td>\n",
       "      <td>1344.17</td>\n",
       "      <td>3</td>\n",
       "      <td>3</td>\n",
       "      <td>4</td>\n",
       "      <td>334</td>\n",
       "      <td>10</td>\n",
       "      <td>Gold</td>\n",
       "    </tr>\n",
       "    <tr>\n",
       "      <th>4</th>\n",
       "      <td>12350.0</td>\n",
       "      <td>310</td>\n",
       "      <td>11</td>\n",
       "      <td>213.30</td>\n",
       "      <td>1</td>\n",
       "      <td>1</td>\n",
       "      <td>2</td>\n",
       "      <td>112</td>\n",
       "      <td>4</td>\n",
       "      <td>Bronze</td>\n",
       "    </tr>\n",
       "  </tbody>\n",
       "</table>\n",
       "</div>"
      ],
      "text/plain": [
       "   CustomerID  Recency  Frequency  Monetary  R  F  M RFM_Segment  RFM_Score  \\\n",
       "0     12346.0      326          1  77183.60  1  1  4         114          6   \n",
       "1     12347.0        2        132   3124.96  4  4  4         444         12   \n",
       "2     12348.0       75         20   1009.88  2  2  3         223          7   \n",
       "3     12349.0       19         50   1344.17  3  3  4         334         10   \n",
       "4     12350.0      310         11    213.30  1  1  2         112          4   \n",
       "\n",
       "  Customer_Segment  \n",
       "0           Silver  \n",
       "1             Gold  \n",
       "2           Silver  \n",
       "3             Gold  \n",
       "4           Bronze  "
      ]
     },
     "execution_count": 90,
     "metadata": {},
     "output_type": "execute_result"
    }
   ],
   "source": [
    "RFM_df.head()"
   ]
  },
  {
   "cell_type": "code",
   "execution_count": 91,
   "id": "59332670",
   "metadata": {},
   "outputs": [
    {
     "data": {
      "text/html": [
       "<div>\n",
       "<style scoped>\n",
       "    .dataframe tbody tr th:only-of-type {\n",
       "        vertical-align: middle;\n",
       "    }\n",
       "\n",
       "    .dataframe tbody tr th {\n",
       "        vertical-align: top;\n",
       "    }\n",
       "\n",
       "    .dataframe thead tr th {\n",
       "        text-align: left;\n",
       "    }\n",
       "\n",
       "    .dataframe thead tr:last-of-type th {\n",
       "        text-align: right;\n",
       "    }\n",
       "</style>\n",
       "<table border=\"1\" class=\"dataframe\">\n",
       "  <thead>\n",
       "    <tr>\n",
       "      <th></th>\n",
       "      <th>Recency</th>\n",
       "      <th>Frequency</th>\n",
       "      <th colspan=\"2\" halign=\"left\">Monetary</th>\n",
       "    </tr>\n",
       "    <tr>\n",
       "      <th></th>\n",
       "      <th>mean</th>\n",
       "      <th>mean</th>\n",
       "      <th>mean</th>\n",
       "      <th>count</th>\n",
       "    </tr>\n",
       "    <tr>\n",
       "      <th>Customer_Segment</th>\n",
       "      <th></th>\n",
       "      <th></th>\n",
       "      <th></th>\n",
       "      <th></th>\n",
       "    </tr>\n",
       "  </thead>\n",
       "  <tbody>\n",
       "    <tr>\n",
       "      <th>Bronze</th>\n",
       "      <td>219.182631</td>\n",
       "      <td>7.936143</td>\n",
       "      <td>140.891213</td>\n",
       "      <td>783</td>\n",
       "    </tr>\n",
       "    <tr>\n",
       "      <th>Gold</th>\n",
       "      <td>20.028777</td>\n",
       "      <td>159.869704</td>\n",
       "      <td>3673.505004</td>\n",
       "      <td>1251</td>\n",
       "    </tr>\n",
       "    <tr>\n",
       "      <th>Silver</th>\n",
       "      <td>89.705728</td>\n",
       "      <td>30.612156</td>\n",
       "      <td>691.521208</td>\n",
       "      <td>2287</td>\n",
       "    </tr>\n",
       "  </tbody>\n",
       "</table>\n",
       "</div>"
      ],
      "text/plain": [
       "                     Recency   Frequency     Monetary      \n",
       "                        mean        mean         mean count\n",
       "Customer_Segment                                           \n",
       "Bronze            219.182631    7.936143   140.891213   783\n",
       "Gold               20.028777  159.869704  3673.505004  1251\n",
       "Silver             89.705728   30.612156   691.521208  2287"
      ]
     },
     "execution_count": 91,
     "metadata": {},
     "output_type": "execute_result"
    }
   ],
   "source": [
    "RFM_df.groupby('Customer_Segment').agg({'Recency':'mean','Frequency':'mean','Monetary':['mean','count']})"
   ]
  },
  {
   "cell_type": "code",
   "execution_count": 92,
   "id": "09bdc242",
   "metadata": {},
   "outputs": [
    {
     "data": {
      "text/plain": [
       "<AxesSubplot:>"
      ]
     },
     "execution_count": 92,
     "metadata": {},
     "output_type": "execute_result"
    },
    {
     "data": {
      "image/png": "[encoded data removed]",
      "text/plain": [
       "<Figure size 640x480 with 1 Axes>"
      ]
     },
     "metadata": {},
     "output_type": "display_data"
    }
   ],
   "source": [
    "RFM_df['Customer_Segment'].value_counts().plot(kind='bar')"
   ]
  },
  {
   "cell_type": "code",
   "execution_count": 93,
   "id": "1c607af1",
   "metadata": {},
   "outputs": [],
   "source": [
    "# So,  Most of the customers are  fall in Silver segment category"
   ]
  },
  {
   "cell_type": "markdown",
   "id": "637f362e",
   "metadata": {},
   "source": [
    "## Data Modeling :"
   ]
  },
  {
   "cell_type": "code",
   "execution_count": 94,
   "id": "9a74b1ff",
   "metadata": {},
   "outputs": [],
   "source": [
    "#Q1. Create clusters using k-means clustering algorithm."
   ]
  },
  {
   "cell_type": "code",
   "execution_count": 95,
   "id": "ad896ebf",
   "metadata": {},
   "outputs": [],
   "source": [
    "#Q1a. Prepare the data for the algorithm. If the data is asymmetrically distributed, manage the skewness with appropriate transformation. Standardize the data."
   ]
  },
  {
   "cell_type": "code",
   "execution_count": 96,
   "id": "93770792",
   "metadata": {},
   "outputs": [],
   "source": [
    "#Now to Check distribution of Variables"
   ]
  },
  {
   "cell_type": "code",
   "execution_count": 97,
   "id": "fc7ee221",
   "metadata": {},
   "outputs": [
    {
     "data": {
      "text/plain": [
       "<AxesSubplot:xlabel='Recency', ylabel='Density'>"
      ]
     },
     "execution_count": 97,
     "metadata": {},
     "output_type": "execute_result"
    },
    {
     "data": {
      "image/png": "[encoded data removed]",
      "text/plain": [
       "<Figure size 640x480 with 1 Axes>"
      ]
     },
     "metadata": {},
     "output_type": "display_data"
    }
   ],
   "source": [
    "sns.distplot(RFM_df['Recency'])"
   ]
  },
  {
   "cell_type": "code",
   "execution_count": 98,
   "id": "6f7ab941",
   "metadata": {},
   "outputs": [
    {
     "data": {
      "text/plain": [
       "<AxesSubplot:xlabel='Frequency', ylabel='Density'>"
      ]
     },
     "execution_count": 98,
     "metadata": {},
     "output_type": "execute_result"
    },
    {
     "data": {
      "image/png": "[encoded data removed]",
      "text/plain": [
       "<Figure size 640x480 with 1 Axes>"
      ]
     },
     "metadata": {},
     "output_type": "display_data"
    }
   ],
   "source": [
    "sns.distplot(RFM_df['Frequency'])"
   ]
  },
  {
   "cell_type": "code",
   "execution_count": 99,
   "id": "bd1eb798",
   "metadata": {},
   "outputs": [
    {
     "data": {
      "text/plain": [
       "<AxesSubplot:xlabel='Monetary', ylabel='Density'>"
      ]
     },
     "execution_count": 99,
     "metadata": {},
     "output_type": "execute_result"
    },
    {
     "data": {
      "image/png": "[encoded data removed]",
      "text/plain": [
       "<Figure size 640x480 with 1 Axes>"
      ]
     },
     "metadata": {},
     "output_type": "display_data"
    }
   ],
   "source": [
    "sns.distplot(RFM_df['Monetary'])"
   ]
  },
  {
   "cell_type": "code",
   "execution_count": 100,
   "id": "785ac1e3",
   "metadata": {},
   "outputs": [],
   "source": [
    "# Its clear that all variables are unsymmetrical distributed ,and data is skewed ,so need log transformation to unskew"
   ]
  },
  {
   "cell_type": "code",
   "execution_count": 101,
   "id": "dc8fd4ab",
   "metadata": {},
   "outputs": [
    {
     "data": {
      "text/html": [
       "<div>\n",
       "<style scoped>\n",
       "    .dataframe tbody tr th:only-of-type {\n",
       "        vertical-align: middle;\n",
       "    }\n",
       "\n",
       "    .dataframe tbody tr th {\n",
       "        vertical-align: top;\n",
       "    }\n",
       "\n",
       "    .dataframe thead th {\n",
       "        text-align: right;\n",
       "    }\n",
       "</style>\n",
       "<table border=\"1\" class=\"dataframe\">\n",
       "  <thead>\n",
       "    <tr style=\"text-align: right;\">\n",
       "      <th></th>\n",
       "      <th>CustomerID</th>\n",
       "      <th>Recency</th>\n",
       "      <th>Frequency</th>\n",
       "      <th>Monetary</th>\n",
       "      <th>RFM_Score</th>\n",
       "    </tr>\n",
       "  </thead>\n",
       "  <tbody>\n",
       "    <tr>\n",
       "      <th>count</th>\n",
       "      <td>4321.000000</td>\n",
       "      <td>4321.000000</td>\n",
       "      <td>4321.000000</td>\n",
       "      <td>4321.000000</td>\n",
       "      <td>4321.000000</td>\n",
       "    </tr>\n",
       "    <tr>\n",
       "      <th>mean</th>\n",
       "      <td>15301.333719</td>\n",
       "      <td>92.995371</td>\n",
       "      <td>63.925249</td>\n",
       "      <td>1455.075580</td>\n",
       "      <td>7.491784</td>\n",
       "    </tr>\n",
       "    <tr>\n",
       "      <th>std</th>\n",
       "      <td>1721.656570</td>\n",
       "      <td>100.371089</td>\n",
       "      <td>158.847536</td>\n",
       "      <td>6426.698726</td>\n",
       "      <td>2.817437</td>\n",
       "    </tr>\n",
       "    <tr>\n",
       "      <th>min</th>\n",
       "      <td>12346.000000</td>\n",
       "      <td>1.000000</td>\n",
       "      <td>1.000000</td>\n",
       "      <td>0.000000</td>\n",
       "      <td>3.000000</td>\n",
       "    </tr>\n",
       "    <tr>\n",
       "      <th>25%</th>\n",
       "      <td>13815.000000</td>\n",
       "      <td>18.000000</td>\n",
       "      <td>12.000000</td>\n",
       "      <td>209.970000</td>\n",
       "      <td>5.000000</td>\n",
       "    </tr>\n",
       "    <tr>\n",
       "      <th>50%</th>\n",
       "      <td>15300.000000</td>\n",
       "      <td>51.000000</td>\n",
       "      <td>29.000000</td>\n",
       "      <td>479.090000</td>\n",
       "      <td>7.000000</td>\n",
       "    </tr>\n",
       "    <tr>\n",
       "      <th>75%</th>\n",
       "      <td>16780.000000</td>\n",
       "      <td>144.000000</td>\n",
       "      <td>70.000000</td>\n",
       "      <td>1180.080000</td>\n",
       "      <td>10.000000</td>\n",
       "    </tr>\n",
       "    <tr>\n",
       "      <th>max</th>\n",
       "      <td>18287.000000</td>\n",
       "      <td>374.000000</td>\n",
       "      <td>5413.000000</td>\n",
       "      <td>190759.920000</td>\n",
       "      <td>12.000000</td>\n",
       "    </tr>\n",
       "  </tbody>\n",
       "</table>\n",
       "</div>"
      ],
      "text/plain": [
       "         CustomerID      Recency    Frequency       Monetary    RFM_Score\n",
       "count   4321.000000  4321.000000  4321.000000    4321.000000  4321.000000\n",
       "mean   15301.333719    92.995371    63.925249    1455.075580     7.491784\n",
       "std     1721.656570   100.371089   158.847536    6426.698726     2.817437\n",
       "min    12346.000000     1.000000     1.000000       0.000000     3.000000\n",
       "25%    13815.000000    18.000000    12.000000     209.970000     5.000000\n",
       "50%    15300.000000    51.000000    29.000000     479.090000     7.000000\n",
       "75%    16780.000000   144.000000    70.000000    1180.080000    10.000000\n",
       "max    18287.000000   374.000000  5413.000000  190759.920000    12.000000"
      ]
     },
     "execution_count": 101,
     "metadata": {},
     "output_type": "execute_result"
    }
   ],
   "source": [
    "RFM_df.describe()"
   ]
  },
  {
   "cell_type": "code",
   "execution_count": 102,
   "id": "9e525ea7",
   "metadata": {},
   "outputs": [],
   "source": [
    "# So, there is minimum value of 0 in Monetary column , so have to be treated before log \n",
    "# So let's add 1 to all monetary values,as it will not impact overall monetary of every customer"
   ]
  },
  {
   "cell_type": "code",
   "execution_count": 103,
   "id": "f3e363e6",
   "metadata": {},
   "outputs": [],
   "source": [
    "RFM_df['Monetary']=RFM_df['Monetary']+1"
   ]
  },
  {
   "cell_type": "code",
   "execution_count": 104,
   "id": "78567db9",
   "metadata": {},
   "outputs": [
    {
     "data": {
      "text/html": [
       "<div>\n",
       "<style scoped>\n",
       "    .dataframe tbody tr th:only-of-type {\n",
       "        vertical-align: middle;\n",
       "    }\n",
       "\n",
       "    .dataframe tbody tr th {\n",
       "        vertical-align: top;\n",
       "    }\n",
       "\n",
       "    .dataframe thead th {\n",
       "        text-align: right;\n",
       "    }\n",
       "</style>\n",
       "<table border=\"1\" class=\"dataframe\">\n",
       "  <thead>\n",
       "    <tr style=\"text-align: right;\">\n",
       "      <th></th>\n",
       "      <th>CustomerID</th>\n",
       "      <th>Recency</th>\n",
       "      <th>Frequency</th>\n",
       "      <th>Monetary</th>\n",
       "      <th>RFM_Score</th>\n",
       "    </tr>\n",
       "  </thead>\n",
       "  <tbody>\n",
       "    <tr>\n",
       "      <th>count</th>\n",
       "      <td>4321.000000</td>\n",
       "      <td>4321.000000</td>\n",
       "      <td>4321.000000</td>\n",
       "      <td>4321.000000</td>\n",
       "      <td>4321.000000</td>\n",
       "    </tr>\n",
       "    <tr>\n",
       "      <th>mean</th>\n",
       "      <td>15301.333719</td>\n",
       "      <td>92.995371</td>\n",
       "      <td>63.925249</td>\n",
       "      <td>1456.075580</td>\n",
       "      <td>7.491784</td>\n",
       "    </tr>\n",
       "    <tr>\n",
       "      <th>std</th>\n",
       "      <td>1721.656570</td>\n",
       "      <td>100.371089</td>\n",
       "      <td>158.847536</td>\n",
       "      <td>6426.698726</td>\n",
       "      <td>2.817437</td>\n",
       "    </tr>\n",
       "    <tr>\n",
       "      <th>min</th>\n",
       "      <td>12346.000000</td>\n",
       "      <td>1.000000</td>\n",
       "      <td>1.000000</td>\n",
       "      <td>1.000000</td>\n",
       "      <td>3.000000</td>\n",
       "    </tr>\n",
       "    <tr>\n",
       "      <th>25%</th>\n",
       "      <td>13815.000000</td>\n",
       "      <td>18.000000</td>\n",
       "      <td>12.000000</td>\n",
       "      <td>210.970000</td>\n",
       "      <td>5.000000</td>\n",
       "    </tr>\n",
       "    <tr>\n",
       "      <th>50%</th>\n",
       "      <td>15300.000000</td>\n",
       "      <td>51.000000</td>\n",
       "      <td>29.000000</td>\n",
       "      <td>480.090000</td>\n",
       "      <td>7.000000</td>\n",
       "    </tr>\n",
       "    <tr>\n",
       "      <th>75%</th>\n",
       "      <td>16780.000000</td>\n",
       "      <td>144.000000</td>\n",
       "      <td>70.000000</td>\n",
       "      <td>1181.080000</td>\n",
       "      <td>10.000000</td>\n",
       "    </tr>\n",
       "    <tr>\n",
       "      <th>max</th>\n",
       "      <td>18287.000000</td>\n",
       "      <td>374.000000</td>\n",
       "      <td>5413.000000</td>\n",
       "      <td>190760.920000</td>\n",
       "      <td>12.000000</td>\n",
       "    </tr>\n",
       "  </tbody>\n",
       "</table>\n",
       "</div>"
      ],
      "text/plain": [
       "         CustomerID      Recency    Frequency       Monetary    RFM_Score\n",
       "count   4321.000000  4321.000000  4321.000000    4321.000000  4321.000000\n",
       "mean   15301.333719    92.995371    63.925249    1456.075580     7.491784\n",
       "std     1721.656570   100.371089   158.847536    6426.698726     2.817437\n",
       "min    12346.000000     1.000000     1.000000       1.000000     3.000000\n",
       "25%    13815.000000    18.000000    12.000000     210.970000     5.000000\n",
       "50%    15300.000000    51.000000    29.000000     480.090000     7.000000\n",
       "75%    16780.000000   144.000000    70.000000    1181.080000    10.000000\n",
       "max    18287.000000   374.000000  5413.000000  190760.920000    12.000000"
      ]
     },
     "execution_count": 104,
     "metadata": {},
     "output_type": "execute_result"
    }
   ],
   "source": [
    "RFM_df.describe()"
   ]
  },
  {
   "cell_type": "code",
   "execution_count": 105,
   "id": "7bcdff7b",
   "metadata": {},
   "outputs": [],
   "source": [
    "RFM_log= RFM_df[['Recency', 'Frequency', 'Monetary']].apply(np.sqrt, axis = 1).round(3)"
   ]
  },
  {
   "cell_type": "code",
   "execution_count": 106,
   "id": "c7d37a7a",
   "metadata": {},
   "outputs": [],
   "source": [
    "RFM_log=np.log(RFM_log)"
   ]
  },
  {
   "cell_type": "code",
   "execution_count": 107,
   "id": "1eb312ac",
   "metadata": {},
   "outputs": [
    {
     "data": {
      "text/plain": [
       "<AxesSubplot:xlabel='Frequency', ylabel='Density'>"
      ]
     },
     "execution_count": 107,
     "metadata": {},
     "output_type": "execute_result"
    },
    {
     "data": {
      "image/png": "[encoded data removed]",
      "text/plain": [
       "<Figure size 640x480 with 1 Axes>"
      ]
     },
     "metadata": {},
     "output_type": "display_data"
    }
   ],
   "source": [
    "sns.distplot(RFM_log['Frequency'])"
   ]
  },
  {
   "cell_type": "code",
   "execution_count": 108,
   "id": "6f983d36",
   "metadata": {},
   "outputs": [
    {
     "data": {
      "text/plain": [
       "<AxesSubplot:xlabel='Recency', ylabel='Density'>"
      ]
     },
     "execution_count": 108,
     "metadata": {},
     "output_type": "execute_result"
    },
    {
     "data": {
      "image/png": "[encoded data removed]",
      "text/plain": [
       "<Figure size 640x480 with 1 Axes>"
      ]
     },
     "metadata": {},
     "output_type": "display_data"
    }
   ],
   "source": [
    "sns.distplot(RFM_log['Recency'])"
   ]
  },
  {
   "cell_type": "code",
   "execution_count": 109,
   "id": "6a9e32f7",
   "metadata": {},
   "outputs": [
    {
     "data": {
      "text/plain": [
       "<AxesSubplot:xlabel='Monetary', ylabel='Density'>"
      ]
     },
     "execution_count": 109,
     "metadata": {},
     "output_type": "execute_result"
    },
    {
     "data": {
      "image/png": "[encoded data removed]",
      "text/plain": [
       "<Figure size 640x480 with 1 Axes>"
      ]
     },
     "metadata": {},
     "output_type": "display_data"
    }
   ],
   "source": [
    "sns.distplot(RFM_log['Monetary'])"
   ]
  },
  {
   "cell_type": "code",
   "execution_count": 110,
   "id": "28b87df9",
   "metadata": {},
   "outputs": [],
   "source": [
    "from sklearn.preprocessing import StandardScaler"
   ]
  },
  {
   "cell_type": "code",
   "execution_count": 111,
   "id": "8d88c9cd",
   "metadata": {},
   "outputs": [],
   "source": [
    "sc=StandardScaler()"
   ]
  },
  {
   "cell_type": "code",
   "execution_count": 112,
   "id": "9c30831d",
   "metadata": {},
   "outputs": [],
   "source": [
    "RFM_normalized=sc.fit_transform(RFM_log)"
   ]
  },
  {
   "cell_type": "code",
   "execution_count": 113,
   "id": "e8461700",
   "metadata": {},
   "outputs": [],
   "source": [
    "from sklearn.cluster import KMeans"
   ]
  },
  {
   "cell_type": "code",
   "execution_count": 114,
   "id": "a739e4ad",
   "metadata": {},
   "outputs": [],
   "source": [
    "K_range=range(1,8)\n",
    "inertia=[]"
   ]
  },
  {
   "cell_type": "code",
   "execution_count": 115,
   "id": "8f4ef285",
   "metadata": {},
   "outputs": [],
   "source": [
    "for k in K_range:\n",
    "    K_model=KMeans(n_clusters=k,random_state=1)\n",
    "    K_model.fit(RFM_normalized)\n",
    "    inertia.append(K_model.inertia_)"
   ]
  },
  {
   "cell_type": "code",
   "execution_count": 116,
   "id": "75633d2f",
   "metadata": {},
   "outputs": [],
   "source": [
    "#Q1b. Decide the optimum number of clusters to be formed."
   ]
  },
  {
   "cell_type": "code",
   "execution_count": 117,
   "id": "3ad5fc4a",
   "metadata": {},
   "outputs": [],
   "source": [
    "# Plot Elbow Curver for Optimal number of Clusters"
   ]
  },
  {
   "cell_type": "code",
   "execution_count": 118,
   "id": "64cbee18",
   "metadata": {},
   "outputs": [
    {
     "data": {
      "image/png": "[encoded data removed]",
      "text/plain": [
       "<Figure size 1000x800 with 1 Axes>"
      ]
     },
     "metadata": {},
     "output_type": "display_data"
    }
   ],
   "source": [
    "plt.figure(figsize=(10,8))\n",
    "plt.plot(K_range,inertia)\n",
    "plt.xlabel(\"Number of Cluster,k\")\n",
    "plt.ylabel('Inertia')\n",
    "plt.title('Elbow_Curve for optimal number of Clusters')\n",
    "plt.show()"
   ]
  },
  {
   "cell_type": "code",
   "execution_count": 119,
   "id": "6346af32",
   "metadata": {},
   "outputs": [],
   "source": [
    "# So used 3 as optimal number of Clusters"
   ]
  },
  {
   "cell_type": "code",
   "execution_count": 120,
   "id": "7c6a7240",
   "metadata": {},
   "outputs": [],
   "source": [
    "#Q1c. Analyze these clusters and comment on the results.\n",
    "\n",
    "Optimal_model=KMeans(n_clusters=3,random_state=1)"
   ]
  },
  {
   "cell_type": "code",
   "execution_count": 121,
   "id": "c3ca26d1",
   "metadata": {},
   "outputs": [
    {
     "data": {
      "text/plain": [
       "KMeans(n_clusters=3, random_state=1)"
      ]
     },
     "execution_count": 121,
     "metadata": {},
     "output_type": "execute_result"
    }
   ],
   "source": [
    "Optimal_model.fit(RFM_normalized)"
   ]
  },
  {
   "cell_type": "code",
   "execution_count": 122,
   "id": "819c909a",
   "metadata": {},
   "outputs": [
    {
     "data": {
      "text/plain": [
       "array([2, 1, 2, ..., 0, 1, 2])"
      ]
     },
     "execution_count": 122,
     "metadata": {},
     "output_type": "execute_result"
    }
   ],
   "source": [
    "Optimal_model.labels_"
   ]
  },
  {
   "cell_type": "code",
   "execution_count": 123,
   "id": "ab01129d",
   "metadata": {},
   "outputs": [],
   "source": [
    "RFM_df['Cluster_labels']=Optimal_model.labels_"
   ]
  },
  {
   "cell_type": "code",
   "execution_count": 124,
   "id": "20c62b4a",
   "metadata": {},
   "outputs": [
    {
     "data": {
      "text/html": [
       "<div>\n",
       "<style scoped>\n",
       "    .dataframe tbody tr th:only-of-type {\n",
       "        vertical-align: middle;\n",
       "    }\n",
       "\n",
       "    .dataframe tbody tr th {\n",
       "        vertical-align: top;\n",
       "    }\n",
       "\n",
       "    .dataframe thead th {\n",
       "        text-align: right;\n",
       "    }\n",
       "</style>\n",
       "<table border=\"1\" class=\"dataframe\">\n",
       "  <thead>\n",
       "    <tr style=\"text-align: right;\">\n",
       "      <th></th>\n",
       "      <th>CustomerID</th>\n",
       "      <th>Recency</th>\n",
       "      <th>Frequency</th>\n",
       "      <th>Monetary</th>\n",
       "      <th>R</th>\n",
       "      <th>F</th>\n",
       "      <th>M</th>\n",
       "      <th>RFM_Segment</th>\n",
       "      <th>RFM_Score</th>\n",
       "      <th>Customer_Segment</th>\n",
       "      <th>Cluster_labels</th>\n",
       "    </tr>\n",
       "  </thead>\n",
       "  <tbody>\n",
       "    <tr>\n",
       "      <th>0</th>\n",
       "      <td>12346.0</td>\n",
       "      <td>326</td>\n",
       "      <td>1</td>\n",
       "      <td>77184.60</td>\n",
       "      <td>1</td>\n",
       "      <td>1</td>\n",
       "      <td>4</td>\n",
       "      <td>114</td>\n",
       "      <td>6</td>\n",
       "      <td>Silver</td>\n",
       "      <td>2</td>\n",
       "    </tr>\n",
       "    <tr>\n",
       "      <th>1</th>\n",
       "      <td>12347.0</td>\n",
       "      <td>2</td>\n",
       "      <td>132</td>\n",
       "      <td>3125.96</td>\n",
       "      <td>4</td>\n",
       "      <td>4</td>\n",
       "      <td>4</td>\n",
       "      <td>444</td>\n",
       "      <td>12</td>\n",
       "      <td>Gold</td>\n",
       "      <td>1</td>\n",
       "    </tr>\n",
       "    <tr>\n",
       "      <th>2</th>\n",
       "      <td>12348.0</td>\n",
       "      <td>75</td>\n",
       "      <td>20</td>\n",
       "      <td>1010.88</td>\n",
       "      <td>2</td>\n",
       "      <td>2</td>\n",
       "      <td>3</td>\n",
       "      <td>223</td>\n",
       "      <td>7</td>\n",
       "      <td>Silver</td>\n",
       "      <td>2</td>\n",
       "    </tr>\n",
       "    <tr>\n",
       "      <th>3</th>\n",
       "      <td>12349.0</td>\n",
       "      <td>19</td>\n",
       "      <td>50</td>\n",
       "      <td>1345.17</td>\n",
       "      <td>3</td>\n",
       "      <td>3</td>\n",
       "      <td>4</td>\n",
       "      <td>334</td>\n",
       "      <td>10</td>\n",
       "      <td>Gold</td>\n",
       "      <td>2</td>\n",
       "    </tr>\n",
       "    <tr>\n",
       "      <th>4</th>\n",
       "      <td>12350.0</td>\n",
       "      <td>310</td>\n",
       "      <td>11</td>\n",
       "      <td>214.30</td>\n",
       "      <td>1</td>\n",
       "      <td>1</td>\n",
       "      <td>2</td>\n",
       "      <td>112</td>\n",
       "      <td>4</td>\n",
       "      <td>Bronze</td>\n",
       "      <td>0</td>\n",
       "    </tr>\n",
       "  </tbody>\n",
       "</table>\n",
       "</div>"
      ],
      "text/plain": [
       "   CustomerID  Recency  Frequency  Monetary  R  F  M RFM_Segment  RFM_Score  \\\n",
       "0     12346.0      326          1  77184.60  1  1  4         114          6   \n",
       "1     12347.0        2        132   3125.96  4  4  4         444         12   \n",
       "2     12348.0       75         20   1010.88  2  2  3         223          7   \n",
       "3     12349.0       19         50   1345.17  3  3  4         334         10   \n",
       "4     12350.0      310         11    214.30  1  1  2         112          4   \n",
       "\n",
       "  Customer_Segment  Cluster_labels  \n",
       "0           Silver               2  \n",
       "1             Gold               1  \n",
       "2           Silver               2  \n",
       "3             Gold               2  \n",
       "4           Bronze               0  "
      ]
     },
     "execution_count": 124,
     "metadata": {},
     "output_type": "execute_result"
    }
   ],
   "source": [
    "RFM_df.head()"
   ]
  },
  {
   "cell_type": "code",
   "execution_count": 125,
   "id": "dbbfb7ed",
   "metadata": {},
   "outputs": [
    {
     "data": {
      "text/html": [
       "<div>\n",
       "<style scoped>\n",
       "    .dataframe tbody tr th:only-of-type {\n",
       "        vertical-align: middle;\n",
       "    }\n",
       "\n",
       "    .dataframe tbody tr th {\n",
       "        vertical-align: top;\n",
       "    }\n",
       "\n",
       "    .dataframe thead tr th {\n",
       "        text-align: left;\n",
       "    }\n",
       "\n",
       "    .dataframe thead tr:last-of-type th {\n",
       "        text-align: right;\n",
       "    }\n",
       "</style>\n",
       "<table border=\"1\" class=\"dataframe\">\n",
       "  <thead>\n",
       "    <tr>\n",
       "      <th></th>\n",
       "      <th>Recency</th>\n",
       "      <th>Frequency</th>\n",
       "      <th colspan=\"2\" halign=\"left\">Monetary</th>\n",
       "    </tr>\n",
       "    <tr>\n",
       "      <th></th>\n",
       "      <th>mean</th>\n",
       "      <th>mean</th>\n",
       "      <th>mean</th>\n",
       "      <th>count</th>\n",
       "    </tr>\n",
       "    <tr>\n",
       "      <th>Cluster_labels</th>\n",
       "      <th></th>\n",
       "      <th></th>\n",
       "      <th></th>\n",
       "      <th></th>\n",
       "    </tr>\n",
       "  </thead>\n",
       "  <tbody>\n",
       "    <tr>\n",
       "      <th>0</th>\n",
       "      <td>170.0</td>\n",
       "      <td>11.0</td>\n",
       "      <td>206.0</td>\n",
       "      <td>1547</td>\n",
       "    </tr>\n",
       "    <tr>\n",
       "      <th>1</th>\n",
       "      <td>13.0</td>\n",
       "      <td>187.0</td>\n",
       "      <td>4729.0</td>\n",
       "      <td>921</td>\n",
       "    </tr>\n",
       "    <tr>\n",
       "      <th>2</th>\n",
       "      <td>69.0</td>\n",
       "      <td>47.0</td>\n",
       "      <td>874.0</td>\n",
       "      <td>1853</td>\n",
       "    </tr>\n",
       "  </tbody>\n",
       "</table>\n",
       "</div>"
      ],
      "text/plain": [
       "               Recency Frequency Monetary      \n",
       "                  mean      mean     mean count\n",
       "Cluster_labels                                 \n",
       "0                170.0      11.0    206.0  1547\n",
       "1                 13.0     187.0   4729.0   921\n",
       "2                 69.0      47.0    874.0  1853"
      ]
     },
     "execution_count": 125,
     "metadata": {},
     "output_type": "execute_result"
    }
   ],
   "source": [
    "RFM_df.groupby('Cluster_labels').agg({'Recency': 'mean','Frequency': 'mean','Monetary': ['mean', 'count'],}).round(0)"
   ]
  },
  {
   "cell_type": "code",
   "execution_count": 126,
   "id": "51144914",
   "metadata": {},
   "outputs": [],
   "source": [
    "New_RFM_normalized=pd.DataFrame(RFM_normalized,index=RFM_df.index,columns=['Recency','Frequency', 'Monetary'])"
   ]
  },
  {
   "cell_type": "code",
   "execution_count": 127,
   "id": "bca5957f",
   "metadata": {},
   "outputs": [
    {
     "data": {
      "text/html": [
       "<div>\n",
       "<style scoped>\n",
       "    .dataframe tbody tr th:only-of-type {\n",
       "        vertical-align: middle;\n",
       "    }\n",
       "\n",
       "    .dataframe tbody tr th {\n",
       "        vertical-align: top;\n",
       "    }\n",
       "\n",
       "    .dataframe thead th {\n",
       "        text-align: right;\n",
       "    }\n",
       "</style>\n",
       "<table border=\"1\" class=\"dataframe\">\n",
       "  <thead>\n",
       "    <tr style=\"text-align: right;\">\n",
       "      <th></th>\n",
       "      <th>Recency</th>\n",
       "      <th>Frequency</th>\n",
       "      <th>Monetary</th>\n",
       "    </tr>\n",
       "  </thead>\n",
       "  <tbody>\n",
       "    <tr>\n",
       "      <th>0</th>\n",
       "      <td>1.406269</td>\n",
       "      <td>-2.540488</td>\n",
       "      <td>3.929975</td>\n",
       "    </tr>\n",
       "    <tr>\n",
       "      <th>1</th>\n",
       "      <td>-2.150740</td>\n",
       "      <td>1.186539</td>\n",
       "      <td>1.422035</td>\n",
       "    </tr>\n",
       "    <tr>\n",
       "      <th>2</th>\n",
       "      <td>0.380214</td>\n",
       "      <td>-0.253892</td>\n",
       "      <td>0.539041</td>\n",
       "    </tr>\n",
       "    <tr>\n",
       "      <th>3</th>\n",
       "      <td>-0.578478</td>\n",
       "      <td>0.445545</td>\n",
       "      <td>0.762537</td>\n",
       "    </tr>\n",
       "    <tr>\n",
       "      <th>4</th>\n",
       "      <td>1.371179</td>\n",
       "      <td>-0.710002</td>\n",
       "      <td>-0.674212</td>\n",
       "    </tr>\n",
       "  </tbody>\n",
       "</table>\n",
       "</div>"
      ],
      "text/plain": [
       "    Recency  Frequency  Monetary\n",
       "0  1.406269  -2.540488  3.929975\n",
       "1 -2.150740   1.186539  1.422035\n",
       "2  0.380214  -0.253892  0.539041\n",
       "3 -0.578478   0.445545  0.762537\n",
       "4  1.371179  -0.710002 -0.674212"
      ]
     },
     "execution_count": 127,
     "metadata": {},
     "output_type": "execute_result"
    }
   ],
   "source": [
    "New_RFM_normalized.head()"
   ]
  },
  {
   "cell_type": "code",
   "execution_count": 128,
   "id": "5eafd3ad",
   "metadata": {},
   "outputs": [],
   "source": [
    "New_RFM_normalized['Customer_Segment']=RFM_df['Customer_Segment']"
   ]
  },
  {
   "cell_type": "code",
   "execution_count": 129,
   "id": "c471abdf",
   "metadata": {},
   "outputs": [],
   "source": [
    "New_RFM_normalized['Cluster_labels']=Optimal_model.labels_"
   ]
  },
  {
   "cell_type": "code",
   "execution_count": 130,
   "id": "dff852d9",
   "metadata": {},
   "outputs": [],
   "source": [
    "New_RFM_normalized['CustomerID']=RFM_df['CustomerID']"
   ]
  },
  {
   "cell_type": "code",
   "execution_count": 131,
   "id": "0332a2bb",
   "metadata": {},
   "outputs": [
    {
     "data": {
      "text/html": [
       "<div>\n",
       "<style scoped>\n",
       "    .dataframe tbody tr th:only-of-type {\n",
       "        vertical-align: middle;\n",
       "    }\n",
       "\n",
       "    .dataframe tbody tr th {\n",
       "        vertical-align: top;\n",
       "    }\n",
       "\n",
       "    .dataframe thead th {\n",
       "        text-align: right;\n",
       "    }\n",
       "</style>\n",
       "<table border=\"1\" class=\"dataframe\">\n",
       "  <thead>\n",
       "    <tr style=\"text-align: right;\">\n",
       "      <th></th>\n",
       "      <th>Recency</th>\n",
       "      <th>Frequency</th>\n",
       "      <th>Monetary</th>\n",
       "      <th>Customer_Segment</th>\n",
       "      <th>Cluster_labels</th>\n",
       "      <th>CustomerID</th>\n",
       "    </tr>\n",
       "  </thead>\n",
       "  <tbody>\n",
       "    <tr>\n",
       "      <th>0</th>\n",
       "      <td>1.406269</td>\n",
       "      <td>-2.540488</td>\n",
       "      <td>3.929975</td>\n",
       "      <td>Silver</td>\n",
       "      <td>2</td>\n",
       "      <td>12346.0</td>\n",
       "    </tr>\n",
       "    <tr>\n",
       "      <th>1</th>\n",
       "      <td>-2.150740</td>\n",
       "      <td>1.186539</td>\n",
       "      <td>1.422035</td>\n",
       "      <td>Gold</td>\n",
       "      <td>1</td>\n",
       "      <td>12347.0</td>\n",
       "    </tr>\n",
       "    <tr>\n",
       "      <th>2</th>\n",
       "      <td>0.380214</td>\n",
       "      <td>-0.253892</td>\n",
       "      <td>0.539041</td>\n",
       "      <td>Silver</td>\n",
       "      <td>2</td>\n",
       "      <td>12348.0</td>\n",
       "    </tr>\n",
       "    <tr>\n",
       "      <th>3</th>\n",
       "      <td>-0.578478</td>\n",
       "      <td>0.445545</td>\n",
       "      <td>0.762537</td>\n",
       "      <td>Gold</td>\n",
       "      <td>2</td>\n",
       "      <td>12349.0</td>\n",
       "    </tr>\n",
       "    <tr>\n",
       "      <th>4</th>\n",
       "      <td>1.371179</td>\n",
       "      <td>-0.710002</td>\n",
       "      <td>-0.674212</td>\n",
       "      <td>Bronze</td>\n",
       "      <td>0</td>\n",
       "      <td>12350.0</td>\n",
       "    </tr>\n",
       "  </tbody>\n",
       "</table>\n",
       "</div>"
      ],
      "text/plain": [
       "    Recency  Frequency  Monetary Customer_Segment  Cluster_labels  CustomerID\n",
       "0  1.406269  -2.540488  3.929975           Silver               2     12346.0\n",
       "1 -2.150740   1.186539  1.422035             Gold               1     12347.0\n",
       "2  0.380214  -0.253892  0.539041           Silver               2     12348.0\n",
       "3 -0.578478   0.445545  0.762537             Gold               2     12349.0\n",
       "4  1.371179  -0.710002 -0.674212           Bronze               0     12350.0"
      ]
     },
     "execution_count": 131,
     "metadata": {},
     "output_type": "execute_result"
    }
   ],
   "source": [
    "New_RFM_normalized.head()"
   ]
  },
  {
   "cell_type": "code",
   "execution_count": 132,
   "id": "6d350f9a",
   "metadata": {},
   "outputs": [],
   "source": [
    "RFM_melt=pd.melt(New_RFM_normalized,id_vars=['CustomerID','Customer_Segment','Cluster_labels'],var_name='Metric',value_name='Values')"
   ]
  },
  {
   "cell_type": "code",
   "execution_count": 133,
   "id": "df4fe1d4",
   "metadata": {},
   "outputs": [
    {
     "data": {
      "text/html": [
       "<div>\n",
       "<style scoped>\n",
       "    .dataframe tbody tr th:only-of-type {\n",
       "        vertical-align: middle;\n",
       "    }\n",
       "\n",
       "    .dataframe tbody tr th {\n",
       "        vertical-align: top;\n",
       "    }\n",
       "\n",
       "    .dataframe thead th {\n",
       "        text-align: right;\n",
       "    }\n",
       "</style>\n",
       "<table border=\"1\" class=\"dataframe\">\n",
       "  <thead>\n",
       "    <tr style=\"text-align: right;\">\n",
       "      <th></th>\n",
       "      <th>CustomerID</th>\n",
       "      <th>Customer_Segment</th>\n",
       "      <th>Cluster_labels</th>\n",
       "      <th>Metric</th>\n",
       "      <th>Values</th>\n",
       "    </tr>\n",
       "  </thead>\n",
       "  <tbody>\n",
       "    <tr>\n",
       "      <th>0</th>\n",
       "      <td>12346.0</td>\n",
       "      <td>Silver</td>\n",
       "      <td>2</td>\n",
       "      <td>Recency</td>\n",
       "      <td>1.406269</td>\n",
       "    </tr>\n",
       "    <tr>\n",
       "      <th>1</th>\n",
       "      <td>12347.0</td>\n",
       "      <td>Gold</td>\n",
       "      <td>1</td>\n",
       "      <td>Recency</td>\n",
       "      <td>-2.150740</td>\n",
       "    </tr>\n",
       "    <tr>\n",
       "      <th>2</th>\n",
       "      <td>12348.0</td>\n",
       "      <td>Silver</td>\n",
       "      <td>2</td>\n",
       "      <td>Recency</td>\n",
       "      <td>0.380214</td>\n",
       "    </tr>\n",
       "    <tr>\n",
       "      <th>3</th>\n",
       "      <td>12349.0</td>\n",
       "      <td>Gold</td>\n",
       "      <td>2</td>\n",
       "      <td>Recency</td>\n",
       "      <td>-0.578478</td>\n",
       "    </tr>\n",
       "    <tr>\n",
       "      <th>4</th>\n",
       "      <td>12350.0</td>\n",
       "      <td>Bronze</td>\n",
       "      <td>0</td>\n",
       "      <td>Recency</td>\n",
       "      <td>1.371179</td>\n",
       "    </tr>\n",
       "    <tr>\n",
       "      <th>...</th>\n",
       "      <td>...</td>\n",
       "      <td>...</td>\n",
       "      <td>...</td>\n",
       "      <td>...</td>\n",
       "      <td>...</td>\n",
       "    </tr>\n",
       "    <tr>\n",
       "      <th>12958</th>\n",
       "      <td>18280.0</td>\n",
       "      <td>Bronze</td>\n",
       "      <td>0</td>\n",
       "      <td>Monetary</td>\n",
       "      <td>-1.329675</td>\n",
       "    </tr>\n",
       "    <tr>\n",
       "      <th>12959</th>\n",
       "      <td>18281.0</td>\n",
       "      <td>Bronze</td>\n",
       "      <td>0</td>\n",
       "      <td>Monetary</td>\n",
       "      <td>-1.666278</td>\n",
       "    </tr>\n",
       "    <tr>\n",
       "      <th>12960</th>\n",
       "      <td>18282.0</td>\n",
       "      <td>Silver</td>\n",
       "      <td>0</td>\n",
       "      <td>Monetary</td>\n",
       "      <td>-1.123842</td>\n",
       "    </tr>\n",
       "    <tr>\n",
       "      <th>12961</th>\n",
       "      <td>18283.0</td>\n",
       "      <td>Gold</td>\n",
       "      <td>1</td>\n",
       "      <td>Monetary</td>\n",
       "      <td>0.821917</td>\n",
       "    </tr>\n",
       "    <tr>\n",
       "      <th>12962</th>\n",
       "      <td>18287.0</td>\n",
       "      <td>Gold</td>\n",
       "      <td>2</td>\n",
       "      <td>Monetary</td>\n",
       "      <td>0.811328</td>\n",
       "    </tr>\n",
       "  </tbody>\n",
       "</table>\n",
       "<p>12963 rows × 5 columns</p>\n",
       "</div>"
      ],
      "text/plain": [
       "       CustomerID Customer_Segment  Cluster_labels    Metric    Values\n",
       "0         12346.0           Silver               2   Recency  1.406269\n",
       "1         12347.0             Gold               1   Recency -2.150740\n",
       "2         12348.0           Silver               2   Recency  0.380214\n",
       "3         12349.0             Gold               2   Recency -0.578478\n",
       "4         12350.0           Bronze               0   Recency  1.371179\n",
       "...           ...              ...             ...       ...       ...\n",
       "12958     18280.0           Bronze               0  Monetary -1.329675\n",
       "12959     18281.0           Bronze               0  Monetary -1.666278\n",
       "12960     18282.0           Silver               0  Monetary -1.123842\n",
       "12961     18283.0             Gold               1  Monetary  0.821917\n",
       "12962     18287.0             Gold               2  Monetary  0.811328\n",
       "\n",
       "[12963 rows x 5 columns]"
      ]
     },
     "execution_count": 133,
     "metadata": {},
     "output_type": "execute_result"
    }
   ],
   "source": [
    "RFM_melt"
   ]
  },
  {
   "cell_type": "code",
   "execution_count": 134,
   "id": "4c0ca2dc",
   "metadata": {},
   "outputs": [
    {
     "data": {
      "image/png": "[encoded data removed]",
      "text/plain": [
       "<Figure size 1800x1000 with 2 Axes>"
      ]
     },
     "metadata": {},
     "output_type": "display_data"
    }
   ],
   "source": [
    "fig,(ax1,ax2)=plt.subplots(1,2,figsize=(18,10))\n",
    "sns.lineplot(x='Metric',y='Values',hue='Customer_Segment',data=RFM_melt,ax=ax1)\n",
    "sns.lineplot(x='Metric',y='Values',hue='Cluster_labels',data=RFM_melt,ax=ax2)\n",
    "plt.suptitle('Snake Plot of RFM')\n",
    "plt.show()"
   ]
  },
  {
   "cell_type": "code",
   "execution_count": 135,
   "id": "cc3f94a8",
   "metadata": {},
   "outputs": [],
   "source": [
    "train_data.to_excel('train_data.xlsx',index=False,header=True)"
   ]
  },
  {
   "cell_type": "code",
   "execution_count": 136,
   "id": "e660db47",
   "metadata": {},
   "outputs": [],
   "source": [
    "RFM_df.to_excel('RFM_df.xlsx',index=False,header=True)"
   ]
  },
  {
   "cell_type": "code",
   "execution_count": 137,
   "id": "d47d15f7",
   "metadata": {},
   "outputs": [
    {
     "data": {
      "text/plain": [
       "(4321, 11)"
      ]
     },
     "execution_count": 137,
     "metadata": {},
     "output_type": "execute_result"
    }
   ],
   "source": [
    "RFM_df.shape"
   ]
  },
  {
   "cell_type": "code",
   "execution_count": 138,
   "id": "cf7a5d76",
   "metadata": {},
   "outputs": [
    {
     "data": {
      "text/plain": [
       "<AxesSubplot:xlabel='Cluster_labels', ylabel='Recency'>"
      ]
     },
     "execution_count": 138,
     "metadata": {},
     "output_type": "execute_result"
    },
    {
     "data": {
      "image/png": "[encoded data removed]",
      "text/plain": [
       "<Figure size 640x480 with 1 Axes>"
      ]
     },
     "metadata": {},
     "output_type": "display_data"
    }
   ],
   "source": [
    "sns.boxplot(x='Cluster_labels',y='Recency',data=RFM_df)"
   ]
  },
  {
   "cell_type": "code",
   "execution_count": 139,
   "id": "2553d2db",
   "metadata": {},
   "outputs": [
    {
     "data": {
      "text/plain": [
       "<AxesSubplot:xlabel='Cluster_labels', ylabel='Frequency'>"
      ]
     },
     "execution_count": 139,
     "metadata": {},
     "output_type": "execute_result"
    },
    {
     "data": {
      "image/png": "[encoded data removed]",
      "text/plain": [
       "<Figure size 640x480 with 1 Axes>"
      ]
     },
     "metadata": {},
     "output_type": "display_data"
    }
   ],
   "source": [
    "sns.boxplot(x='Cluster_labels',y='Frequency',data=RFM_df)"
   ]
  },
  {
   "cell_type": "code",
   "execution_count": 140,
   "id": "d4100720",
   "metadata": {},
   "outputs": [
    {
     "data": {
      "text/plain": [
       "<AxesSubplot:xlabel='Cluster_labels', ylabel='Monetary'>"
      ]
     },
     "execution_count": 140,
     "metadata": {},
     "output_type": "execute_result"
    },
    {
     "data": {
      "image/png": "[encoded data removed]",
      "text/plain": [
       "<Figure size 640x480 with 1 Axes>"
      ]
     },
     "metadata": {},
     "output_type": "display_data"
    }
   ],
   "source": [
    "sns.boxplot(x='Cluster_labels',y='Monetary',data=RFM_df)"
   ]
  },
  {
   "cell_type": "code",
   "execution_count": 141,
   "id": "483f67cf",
   "metadata": {},
   "outputs": [],
   "source": [
    "# Inference from these Cluster Analysis\n",
    "#1. Cluster label 1 are the best customers from business point of view as they comes more frequently and \n",
    "#   spending high amount and they are more recently ones .\n",
    "#2 Cluster label 0 are least impoertance ones as they didnot comes frequently and their recency is high in number of days\n",
    "#3 Cluster label 2 are average customers as few of them are spending lot and some have high recency"
   ]
  },
  {
   "cell_type": "markdown",
   "id": "35e5d360",
   "metadata": {},
   "source": [
    " ## Plese refer tableau file for visualisation and Data reporting part"
   ]
  },
  {
   "cell_type": "code",
   "execution_count": null,
   "id": "eb355497",
   "metadata": {},
   "outputs": [],
   "source": []
  },
  {
   "cell_type": "code",
   "execution_count": null,
   "id": "0fced46d",
   "metadata": {},
   "outputs": [],
   "source": []
  }
 ],
 "metadata": {
  "kernelspec": {
   "display_name": "Python 3 (ipykernel)",
   "language": "python",
   "name": "python3"
  },
  "language_info": {
   "codemirror_mode": {
    "name": "ipython",
    "version": 3
   },
   "file_extension": ".py",
   "mimetype": "text/x-python",
   "name": "python",
   "nbconvert_exporter": "python",
   "pygments_lexer": "ipython3",
   "version": "3.9.13"
  }
 },
 "nbformat": 4,
 "nbformat_minor": 5
}
